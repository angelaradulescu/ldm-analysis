{
 "cells": [
  {
   "cell_type": "markdown",
   "metadata": {},
   "source": [
    "## References: \n",
    "+ https://www.pybloggers.com/2018/10/repeated-measures-anova-in-python-using-statsmodels/\n",
    "+ https://pingouin-stats.org/"
   ]
  },
  {
   "cell_type": "code",
   "execution_count": 2,
   "metadata": {},
   "outputs": [],
   "source": [
    "import pandas as pd\n",
    "import numpy as np\n",
    "import matplotlib.pyplot as plt\n",
    "import seaborn as sns\n",
    "from statsmodels.stats.anova import AnovaRM\n",
    "import pingouin as pg"
   ]
  },
  {
   "cell_type": "markdown",
   "metadata": {},
   "source": [
    "### Preliminaries"
   ]
  },
  {
   "cell_type": "code",
   "execution_count": 3,
   "metadata": {},
   "outputs": [
    {
     "data": {
      "text/html": [
       "<div>\n",
       "<style scoped>\n",
       "    .dataframe tbody tr th:only-of-type {\n",
       "        vertical-align: middle;\n",
       "    }\n",
       "\n",
       "    .dataframe tbody tr th {\n",
       "        vertical-align: top;\n",
       "    }\n",
       "\n",
       "    .dataframe thead th {\n",
       "        text-align: right;\n",
       "    }\n",
       "</style>\n",
       "<table border=\"1\" class=\"dataframe\">\n",
       "  <thead>\n",
       "    <tr style=\"text-align: right;\">\n",
       "      <th></th>\n",
       "      <th>Subj</th>\n",
       "      <th>Trial</th>\n",
       "      <th>Game</th>\n",
       "      <th>Stim11</th>\n",
       "      <th>Stim12</th>\n",
       "      <th>Stim13</th>\n",
       "      <th>Stim21</th>\n",
       "      <th>Stim22</th>\n",
       "      <th>Stim23</th>\n",
       "      <th>Stim31</th>\n",
       "      <th>...</th>\n",
       "      <th>Outcome</th>\n",
       "      <th>Dim</th>\n",
       "      <th>Feat</th>\n",
       "      <th>CenterDim</th>\n",
       "      <th>CenterFeat</th>\n",
       "      <th>Correct</th>\n",
       "      <th>LearnedFeat</th>\n",
       "      <th>PoL</th>\n",
       "      <th>RT</th>\n",
       "      <th>Trial_2</th>\n",
       "    </tr>\n",
       "  </thead>\n",
       "  <tbody>\n",
       "    <tr>\n",
       "      <th>0</th>\n",
       "      <td>1</td>\n",
       "      <td>1</td>\n",
       "      <td>1</td>\n",
       "      <td>2</td>\n",
       "      <td>4</td>\n",
       "      <td>9</td>\n",
       "      <td>1</td>\n",
       "      <td>5</td>\n",
       "      <td>7</td>\n",
       "      <td>3</td>\n",
       "      <td>...</td>\n",
       "      <td>1.0</td>\n",
       "      <td>2</td>\n",
       "      <td>5</td>\n",
       "      <td>1</td>\n",
       "      <td>1</td>\n",
       "      <td>0</td>\n",
       "      <td>9.0</td>\n",
       "      <td>20</td>\n",
       "      <td>1.97010</td>\n",
       "      <td>1</td>\n",
       "    </tr>\n",
       "    <tr>\n",
       "      <th>1</th>\n",
       "      <td>1</td>\n",
       "      <td>2</td>\n",
       "      <td>1</td>\n",
       "      <td>2</td>\n",
       "      <td>5</td>\n",
       "      <td>9</td>\n",
       "      <td>3</td>\n",
       "      <td>6</td>\n",
       "      <td>8</td>\n",
       "      <td>1</td>\n",
       "      <td>...</td>\n",
       "      <td>NaN</td>\n",
       "      <td>2</td>\n",
       "      <td>5</td>\n",
       "      <td>1</td>\n",
       "      <td>3</td>\n",
       "      <td>0</td>\n",
       "      <td>9.0</td>\n",
       "      <td>20</td>\n",
       "      <td>NaN</td>\n",
       "      <td>2</td>\n",
       "    </tr>\n",
       "    <tr>\n",
       "      <th>2</th>\n",
       "      <td>1</td>\n",
       "      <td>3</td>\n",
       "      <td>1</td>\n",
       "      <td>2</td>\n",
       "      <td>5</td>\n",
       "      <td>7</td>\n",
       "      <td>1</td>\n",
       "      <td>4</td>\n",
       "      <td>9</td>\n",
       "      <td>3</td>\n",
       "      <td>...</td>\n",
       "      <td>0.0</td>\n",
       "      <td>2</td>\n",
       "      <td>5</td>\n",
       "      <td>1</td>\n",
       "      <td>1</td>\n",
       "      <td>1</td>\n",
       "      <td>9.0</td>\n",
       "      <td>20</td>\n",
       "      <td>0.57229</td>\n",
       "      <td>3</td>\n",
       "    </tr>\n",
       "    <tr>\n",
       "      <th>3</th>\n",
       "      <td>1</td>\n",
       "      <td>4</td>\n",
       "      <td>1</td>\n",
       "      <td>3</td>\n",
       "      <td>5</td>\n",
       "      <td>9</td>\n",
       "      <td>2</td>\n",
       "      <td>6</td>\n",
       "      <td>7</td>\n",
       "      <td>1</td>\n",
       "      <td>...</td>\n",
       "      <td>1.0</td>\n",
       "      <td>2</td>\n",
       "      <td>5</td>\n",
       "      <td>1</td>\n",
       "      <td>2</td>\n",
       "      <td>1</td>\n",
       "      <td>9.0</td>\n",
       "      <td>20</td>\n",
       "      <td>0.76743</td>\n",
       "      <td>4</td>\n",
       "    </tr>\n",
       "    <tr>\n",
       "      <th>4</th>\n",
       "      <td>1</td>\n",
       "      <td>5</td>\n",
       "      <td>1</td>\n",
       "      <td>2</td>\n",
       "      <td>5</td>\n",
       "      <td>9</td>\n",
       "      <td>1</td>\n",
       "      <td>6</td>\n",
       "      <td>8</td>\n",
       "      <td>3</td>\n",
       "      <td>...</td>\n",
       "      <td>1.0</td>\n",
       "      <td>2</td>\n",
       "      <td>5</td>\n",
       "      <td>1</td>\n",
       "      <td>1</td>\n",
       "      <td>1</td>\n",
       "      <td>9.0</td>\n",
       "      <td>20</td>\n",
       "      <td>0.71366</td>\n",
       "      <td>5</td>\n",
       "    </tr>\n",
       "  </tbody>\n",
       "</table>\n",
       "<p>5 rows × 32 columns</p>\n",
       "</div>"
      ],
      "text/plain": [
       "   Subj  Trial  Game  Stim11  Stim12  Stim13  Stim21  Stim22  Stim23  Stim31  \\\n",
       "0     1      1     1       2       4       9       1       5       7       3   \n",
       "1     1      2     1       2       5       9       3       6       8       1   \n",
       "2     1      3     1       2       5       7       1       4       9       3   \n",
       "3     1      4     1       3       5       9       2       6       7       1   \n",
       "4     1      5     1       2       5       9       1       6       8       3   \n",
       "\n",
       "   ...  Outcome  Dim  Feat  CenterDim  CenterFeat  Correct  LearnedFeat  PoL  \\\n",
       "0  ...      1.0    2     5          1           1        0          9.0   20   \n",
       "1  ...      NaN    2     5          1           3        0          9.0   20   \n",
       "2  ...      0.0    2     5          1           1        1          9.0   20   \n",
       "3  ...      1.0    2     5          1           2        1          9.0   20   \n",
       "4  ...      1.0    2     5          1           1        1          9.0   20   \n",
       "\n",
       "        RT  Trial_2  \n",
       "0  1.97010        1  \n",
       "1      NaN        2  \n",
       "2  0.57229        3  \n",
       "3  0.76743        4  \n",
       "4  0.71366        5  \n",
       "\n",
       "[5 rows x 32 columns]"
      ]
     },
     "execution_count": 3,
     "metadata": {},
     "output_type": "execute_result"
    }
   ],
   "source": [
    "## Grab sample data. \n",
    "# Replace this with LDM data (should have the same format)\n",
    "behav_path = '/Users/angelaradulescu/Dropbox/research/thesis/data/3_ACAL-2/AllData.csv' \n",
    "behav_data = pd.read_csv(behav_path)\n",
    "subjects = behav_data['Subj'].unique()\n",
    "\n",
    "## Get metadata.\n",
    "n_trials = max(behav_data['Trial'])\n",
    "n_games = max(behav_data['Game'])\n",
    "game_length = len(behav_data.loc[(behav_data['Subj'] == 1) & (behav_data['Game'] == 1)])\n",
    "\n",
    "## Add trial-within-game variable.\n",
    "behav_data['Trial_2'] = behav_data['Trial'] - (behav_data['Game']-1)*game_length\n",
    "behav_data.head(5)"
   ]
  },
  {
   "cell_type": "markdown",
   "metadata": {},
   "source": [
    "### 1. Visualize RT"
   ]
  },
  {
   "cell_type": "markdown",
   "metadata": {},
   "source": [
    "For illustration, we look at how trial within game (**Trial_2**) and dimension (**Dim**) affect **RT**."
   ]
  },
  {
   "cell_type": "code",
   "execution_count": 84,
   "metadata": {},
   "outputs": [
    {
     "data": {
      "image/png": "[encoded data removed]",
      "text/plain": [
       "<Figure size 1152x648 with 1 Axes>"
      ]
     },
     "metadata": {
      "needs_background": "light"
     },
     "output_type": "display_data"
    }
   ],
   "source": [
    "# This line groups by relevant variables (aka factors). \n",
    "df = pd.melt(behav_data, col_level=0, id_vars=['Subj','Trial_2','Dim'], value_vars=['RT']).dropna()\n",
    "\n",
    "fig, ax = plt.subplots(figsize=(16,9))\n",
    "ax.axhline(y=1/3, color='k', lw=4, linestyle='--');\n",
    "sns.lineplot(x = \"Trial_2\", y=\"value\", hue='Dim', err_style=\"band\", ci=68, data=df, lw=4, palette='deep')\n",
    "sns.despine()\n",
    "ax.set_xlim([0,game_length+.05])\n",
    "# ax.set_ylim([0.3,0.8])\n",
    "ax.set_xticks(np.arange(game_length)+1)\n",
    "xl = ax.set_xlabel('Trial',fontsize = 40);\n",
    "yl = ax.set_ylabel('RT',fontsize = 40);\n",
    "for axis in ['top','bottom','left','right']:\n",
    "      ax.spines[axis].set_linewidth(2)\n",
    "ax.tick_params(axis='x',colors='k')\n",
    "plt.xticks(fontsize=20);\n",
    "plt.yticks(fontsize=30);"
   ]
  },
  {
   "cell_type": "markdown",
   "metadata": {},
   "source": [
    "Based on the above plot, we would expect a significant effect of both dimension and trial (RT is generally higher for Dimension 2 and decreases over time). "
   ]
  },
  {
   "cell_type": "markdown",
   "metadata": {},
   "source": [
    "### 2. Reformat data for 2-way repeated-measures ANOVA"
   ]
  },
  {
   "cell_type": "markdown",
   "metadata": {},
   "source": [
    "We're first going to run a 2-way repeated measures ANOVA in which both factors of interest are *within-subject*. The \"melt\" command above also reformatted the data to the way that the ANOVA function expects it. \n",
    "Let's have a look:"
   ]
  },
  {
   "cell_type": "code",
   "execution_count": 85,
   "metadata": {},
   "outputs": [
    {
     "data": {
      "text/html": [
       "<div>\n",
       "<style scoped>\n",
       "    .dataframe tbody tr th:only-of-type {\n",
       "        vertical-align: middle;\n",
       "    }\n",
       "\n",
       "    .dataframe tbody tr th {\n",
       "        vertical-align: top;\n",
       "    }\n",
       "\n",
       "    .dataframe thead th {\n",
       "        text-align: right;\n",
       "    }\n",
       "</style>\n",
       "<table border=\"1\" class=\"dataframe\">\n",
       "  <thead>\n",
       "    <tr style=\"text-align: right;\">\n",
       "      <th></th>\n",
       "      <th>Subj</th>\n",
       "      <th>Trial_2</th>\n",
       "      <th>Dim</th>\n",
       "      <th>variable</th>\n",
       "      <th>value</th>\n",
       "    </tr>\n",
       "  </thead>\n",
       "  <tbody>\n",
       "    <tr>\n",
       "      <th>0</th>\n",
       "      <td>1</td>\n",
       "      <td>1</td>\n",
       "      <td>2</td>\n",
       "      <td>RT</td>\n",
       "      <td>1.97010</td>\n",
       "    </tr>\n",
       "    <tr>\n",
       "      <th>2</th>\n",
       "      <td>1</td>\n",
       "      <td>3</td>\n",
       "      <td>2</td>\n",
       "      <td>RT</td>\n",
       "      <td>0.57229</td>\n",
       "    </tr>\n",
       "    <tr>\n",
       "      <th>3</th>\n",
       "      <td>1</td>\n",
       "      <td>4</td>\n",
       "      <td>2</td>\n",
       "      <td>RT</td>\n",
       "      <td>0.76743</td>\n",
       "    </tr>\n",
       "    <tr>\n",
       "      <th>4</th>\n",
       "      <td>1</td>\n",
       "      <td>5</td>\n",
       "      <td>2</td>\n",
       "      <td>RT</td>\n",
       "      <td>0.71366</td>\n",
       "    </tr>\n",
       "    <tr>\n",
       "      <th>5</th>\n",
       "      <td>1</td>\n",
       "      <td>6</td>\n",
       "      <td>2</td>\n",
       "      <td>RT</td>\n",
       "      <td>0.63904</td>\n",
       "    </tr>\n",
       "    <tr>\n",
       "      <th>6</th>\n",
       "      <td>1</td>\n",
       "      <td>7</td>\n",
       "      <td>2</td>\n",
       "      <td>RT</td>\n",
       "      <td>1.13090</td>\n",
       "    </tr>\n",
       "    <tr>\n",
       "      <th>7</th>\n",
       "      <td>1</td>\n",
       "      <td>8</td>\n",
       "      <td>2</td>\n",
       "      <td>RT</td>\n",
       "      <td>1.04870</td>\n",
       "    </tr>\n",
       "    <tr>\n",
       "      <th>8</th>\n",
       "      <td>1</td>\n",
       "      <td>9</td>\n",
       "      <td>2</td>\n",
       "      <td>RT</td>\n",
       "      <td>0.63695</td>\n",
       "    </tr>\n",
       "    <tr>\n",
       "      <th>9</th>\n",
       "      <td>1</td>\n",
       "      <td>10</td>\n",
       "      <td>2</td>\n",
       "      <td>RT</td>\n",
       "      <td>0.86444</td>\n",
       "    </tr>\n",
       "    <tr>\n",
       "      <th>10</th>\n",
       "      <td>1</td>\n",
       "      <td>11</td>\n",
       "      <td>2</td>\n",
       "      <td>RT</td>\n",
       "      <td>1.02920</td>\n",
       "    </tr>\n",
       "  </tbody>\n",
       "</table>\n",
       "</div>"
      ],
      "text/plain": [
       "    Subj  Trial_2  Dim variable    value\n",
       "0      1        1    2       RT  1.97010\n",
       "2      1        3    2       RT  0.57229\n",
       "3      1        4    2       RT  0.76743\n",
       "4      1        5    2       RT  0.71366\n",
       "5      1        6    2       RT  0.63904\n",
       "6      1        7    2       RT  1.13090\n",
       "7      1        8    2       RT  1.04870\n",
       "8      1        9    2       RT  0.63695\n",
       "9      1       10    2       RT  0.86444\n",
       "10     1       11    2       RT  1.02920"
      ]
     },
     "execution_count": 85,
     "metadata": {},
     "output_type": "execute_result"
    }
   ],
   "source": [
    "df.head(10)"
   ]
  },
  {
   "cell_type": "markdown",
   "metadata": {},
   "source": [
    "The dependent variable is **RT**, and it's coded in the **value** column. The factors we are interested in are **Trial_2** (within-subject) and **Dim** (also within-subject). The **Subj** column is considered the \"random effect.\" We can run a repeated-measures ANOVA using the *statsmethods* package like so: "
   ]
  },
  {
   "cell_type": "code",
   "execution_count": 86,
   "metadata": {},
   "outputs": [
    {
     "name": "stdout",
     "output_type": "stream",
     "text": [
      "                   Anova\n",
      "===========================================\n",
      "            F Value  Num DF  Den DF  Pr > F\n",
      "-------------------------------------------\n",
      "Trial_2      7.6795 19.0000 380.0000 0.0000\n",
      "Dim         13.1048  2.0000  40.0000 0.0000\n",
      "Trial_2:Dim  1.0208 38.0000 760.0000 0.4369\n",
      "===========================================\n",
      "\n"
     ]
    }
   ],
   "source": [
    "print(AnovaRM(data=df, depvar='value', subject='Subj', within=['Trial_2', 'Dim'], aggregate_func='mean').fit())"
   ]
  },
  {
   "cell_type": "markdown",
   "metadata": {},
   "source": [
    "As expected, both the main effects (**Trial_2** and **Dim**) are significant. Their interaction is not significant (that is, the effect of dimension doesn't depend on trial number.)"
   ]
  },
  {
   "cell_type": "markdown",
   "metadata": {},
   "source": [
    "### 3. Run mixed 2-way ANOVA."
   ]
  },
  {
   "cell_type": "markdown",
   "metadata": {},
   "source": [
    "For LDM, we need a mixed ANOVA in which one of the factors (**Age**) is between-subjects. Just for illustration, let's add a fake between-subjects age column to our dataframe. "
   ]
  },
  {
   "cell_type": "code",
   "execution_count": 88,
   "metadata": {},
   "outputs": [
    {
     "data": {
      "text/html": [
       "<div>\n",
       "<style scoped>\n",
       "    .dataframe tbody tr th:only-of-type {\n",
       "        vertical-align: middle;\n",
       "    }\n",
       "\n",
       "    .dataframe tbody tr th {\n",
       "        vertical-align: top;\n",
       "    }\n",
       "\n",
       "    .dataframe thead th {\n",
       "        text-align: right;\n",
       "    }\n",
       "</style>\n",
       "<table border=\"1\" class=\"dataframe\">\n",
       "  <thead>\n",
       "    <tr style=\"text-align: right;\">\n",
       "      <th></th>\n",
       "      <th>Subj</th>\n",
       "      <th>Trial_2</th>\n",
       "      <th>Dim</th>\n",
       "      <th>variable</th>\n",
       "      <th>value</th>\n",
       "      <th>Age</th>\n",
       "    </tr>\n",
       "  </thead>\n",
       "  <tbody>\n",
       "    <tr>\n",
       "      <th>0</th>\n",
       "      <td>1</td>\n",
       "      <td>1</td>\n",
       "      <td>2</td>\n",
       "      <td>RT</td>\n",
       "      <td>1.97010</td>\n",
       "      <td>adults</td>\n",
       "    </tr>\n",
       "    <tr>\n",
       "      <th>2</th>\n",
       "      <td>1</td>\n",
       "      <td>3</td>\n",
       "      <td>2</td>\n",
       "      <td>RT</td>\n",
       "      <td>0.57229</td>\n",
       "      <td>adults</td>\n",
       "    </tr>\n",
       "    <tr>\n",
       "      <th>3</th>\n",
       "      <td>1</td>\n",
       "      <td>4</td>\n",
       "      <td>2</td>\n",
       "      <td>RT</td>\n",
       "      <td>0.76743</td>\n",
       "      <td>adults</td>\n",
       "    </tr>\n",
       "    <tr>\n",
       "      <th>4</th>\n",
       "      <td>1</td>\n",
       "      <td>5</td>\n",
       "      <td>2</td>\n",
       "      <td>RT</td>\n",
       "      <td>0.71366</td>\n",
       "      <td>adults</td>\n",
       "    </tr>\n",
       "    <tr>\n",
       "      <th>5</th>\n",
       "      <td>1</td>\n",
       "      <td>6</td>\n",
       "      <td>2</td>\n",
       "      <td>RT</td>\n",
       "      <td>0.63904</td>\n",
       "      <td>adults</td>\n",
       "    </tr>\n",
       "    <tr>\n",
       "      <th>6</th>\n",
       "      <td>1</td>\n",
       "      <td>7</td>\n",
       "      <td>2</td>\n",
       "      <td>RT</td>\n",
       "      <td>1.13090</td>\n",
       "      <td>adults</td>\n",
       "    </tr>\n",
       "    <tr>\n",
       "      <th>7</th>\n",
       "      <td>1</td>\n",
       "      <td>8</td>\n",
       "      <td>2</td>\n",
       "      <td>RT</td>\n",
       "      <td>1.04870</td>\n",
       "      <td>adults</td>\n",
       "    </tr>\n",
       "    <tr>\n",
       "      <th>8</th>\n",
       "      <td>1</td>\n",
       "      <td>9</td>\n",
       "      <td>2</td>\n",
       "      <td>RT</td>\n",
       "      <td>0.63695</td>\n",
       "      <td>adults</td>\n",
       "    </tr>\n",
       "    <tr>\n",
       "      <th>9</th>\n",
       "      <td>1</td>\n",
       "      <td>10</td>\n",
       "      <td>2</td>\n",
       "      <td>RT</td>\n",
       "      <td>0.86444</td>\n",
       "      <td>adults</td>\n",
       "    </tr>\n",
       "    <tr>\n",
       "      <th>10</th>\n",
       "      <td>1</td>\n",
       "      <td>11</td>\n",
       "      <td>2</td>\n",
       "      <td>RT</td>\n",
       "      <td>1.02920</td>\n",
       "      <td>adults</td>\n",
       "    </tr>\n",
       "  </tbody>\n",
       "</table>\n",
       "</div>"
      ],
      "text/plain": [
       "    Subj  Trial_2  Dim variable    value     Age\n",
       "0      1        1    2       RT  1.97010  adults\n",
       "2      1        3    2       RT  0.57229  adults\n",
       "3      1        4    2       RT  0.76743  adults\n",
       "4      1        5    2       RT  0.71366  adults\n",
       "5      1        6    2       RT  0.63904  adults\n",
       "6      1        7    2       RT  1.13090  adults\n",
       "7      1        8    2       RT  1.04870  adults\n",
       "8      1        9    2       RT  0.63695  adults\n",
       "9      1       10    2       RT  0.86444  adults\n",
       "10     1       11    2       RT  1.02920  adults"
      ]
     },
     "execution_count": 88,
     "metadata": {},
     "output_type": "execute_result"
    }
   ],
   "source": [
    "df['Age'] = 'adolescents'\n",
    "df.loc[df['Subj'] < 10,'Age'] = 'adults'\n",
    "df.head(10)"
   ]
  },
  {
   "cell_type": "markdown",
   "metadata": {},
   "source": [
    "Then we can run the model using the *pingouin* package: "
   ]
  },
  {
   "cell_type": "code",
   "execution_count": 89,
   "metadata": {},
   "outputs": [
    {
     "name": "stdout",
     "output_type": "stream",
     "text": [
      "\n",
      "=============\n",
      "ANOVA SUMMARY\n",
      "=============\n",
      "\n",
      "Source          SS    DF1    DF2     MS      F    p-unc    np2      eps\n",
      "-----------  -----  -----  -----  -----  -----  -------  -----  -------\n",
      "Age          0.134      1     19  0.134  0.297    0.592  0.015  nan\n",
      "Trial_2      1.097     19    361  0.058  7.605    0.000  0.286    0.302\n",
      "Interaction  0.080     19    361  0.004  0.557    0.934  0.028  nan\n",
      "\n"
     ]
    }
   ],
   "source": [
    "aov = pg.mixed_anova(data=df, dv='value', between='Age', within='Trial_2',\n",
    "                     subject='Subj', correction=False, effsize=\"np2\")\n",
    "pg.print_table(aov)"
   ]
  },
  {
   "cell_type": "markdown",
   "metadata": {},
   "source": [
    "As expected, the p-value for Age is non-significant (since we added it at random), while **Trial_2** remains significant."
   ]
  },
  {
   "cell_type": "markdown",
   "metadata": {},
   "source": [
    "This section can now be adapted for the entropy computation :)"
   ]
  },
  {
   "cell_type": "code",
   "execution_count": null,
   "metadata": {},
   "outputs": [],
   "source": []
  }
 ],
 "metadata": {
  "kernelspec": {
   "display_name": "Python 3",
   "language": "python",
   "name": "python3"
  },
  "language_info": {
   "codemirror_mode": {
    "name": "ipython",
    "version": 3
   },
   "file_extension": ".py",
   "mimetype": "text/x-python",
   "name": "python",
   "nbconvert_exporter": "python",
   "pygments_lexer": "ipython3",
   "version": "3.8.5"
  }
 },
 "nbformat": 4,
 "nbformat_minor": 4
}
