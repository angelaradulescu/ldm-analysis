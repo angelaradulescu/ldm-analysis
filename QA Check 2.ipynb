{
 "cells": [
  {
   "cell_type": "code",
   "execution_count": 1,
   "metadata": {},
   "outputs": [],
   "source": [
    "%load_ext autoreload\n",
    "%autoreload"
   ]
  },
  {
   "cell_type": "code",
   "execution_count": 2,
   "metadata": {},
   "outputs": [
    {
     "name": "stdout",
     "output_type": "stream",
     "text": [
      "Powered by NivLink0.2.5\n"
     ]
    }
   ],
   "source": [
    "import sys\n",
    "import os\n",
    "\n",
    "import numpy as np\n",
    "import matplotlib.pyplot as plt\n",
    "import matplotlib.cm as cm\n",
    "import matplotlib as matplotlib\n",
    "from matplotlib.colors import ListedColormap\n",
    "import seaborn as sns\n",
    "import scipy.io as io\n",
    "import pandas as pd\n",
    "from pandas import DataFrame, read_csv\n",
    "from nivlink import Screen, Raw, align_to_aoi, compute_fixations, plot_heatmaps\n",
    "\n",
    "import warnings\n",
    "from scipy.stats import kde\n",
    "import nivlink\n",
    "import ipywidgets as wdg\n",
    "from scipy.stats import iqr\n",
    "print('Powered by NivLink' + str(nivlink.__version__))"
   ]
  },
  {
   "cell_type": "code",
   "execution_count": 5,
   "metadata": {},
   "outputs": [],
   "source": [
    "## Load percent null distribution.\n",
    "percent_null = pd.read_csv(os.getcwd() + '/percent_null.csv')"
   ]
  },
  {
   "cell_type": "code",
   "execution_count": 22,
   "metadata": {},
   "outputs": [
    {
     "data": {
      "image/png": "[encoded data removed]",
      "text/plain": [
       "<Figure size 1440x288 with 1 Axes>"
      ]
     },
     "metadata": {
      "needs_background": "light"
     },
     "output_type": "display_data"
    }
   ],
   "source": [
    "## Plot.\n",
    "pal = sns.color_palette(\"colorblind\", 10)\n",
    "\n",
    "fig, ax = plt.subplots(1, 1, figsize=(20, 4))\n",
    "ax = sns.boxplot(x=\"percent_null\", data=percent_null, palette=pal, whis=1.5)\n",
    "ax.tick_params(axis='x', labelsize=30)\n",
    "ax.tick_params(axis='y', labelsize=30)\n",
    "ax.set_xlim((0,1.01))\n",
    "ax.set_xticks(np.arange(0,1.1,0.2))\n",
    "ax.set_xlabel('Percent outside AoI', fontsize=40);"
   ]
  },
  {
   "cell_type": "code",
   "execution_count": 23,
   "metadata": {},
   "outputs": [
    {
     "name": "stdout",
     "output_type": "stream",
     "text": [
      "IQR all:\n",
      "[0.07636204742605443, 0.10069838181364484, 0.12751392052236638]\n",
      "Subjects that failed QA check: \n",
      "[]\n"
     ]
    }
   ],
   "source": [
    "## Compute quartiles and outliers.\n",
    "q_all = [np.quantile(percent_null['percent_null'].values, x) for x in [.25,.50,.75]]\n",
    "\n",
    "print('IQR all:')\n",
    "print(q_all)\n",
    "\n",
    "## Compute outliers (1.5 IQR above 3rd quartile). \n",
    "iqr_all = q_all[2] - q_all[0]\n",
    "print('Subjects that failed QA check: ')\n",
    "print(list(percent_null[percent_null['percent_null'] > q_all[2] + iqr_all*1.5].reset_index(drop=True)['subj'].values.astype(int)))"
   ]
  },
  {
   "cell_type": "markdown",
   "metadata": {},
   "source": [
    "Exclusion summary:\n",
    "+ Participants who failed QA 1: 33, 66\n",
    "+ Participants with preproc issues: 58\n",
    "+ Participants who failed QA 2: none"
   ]
  },
  {
   "cell_type": "code",
   "execution_count": null,
   "metadata": {},
   "outputs": [],
   "source": []
  }
 ],
 "metadata": {
  "kernelspec": {
   "display_name": "Python 3",
   "language": "python",
   "name": "python3"
  },
  "language_info": {
   "codemirror_mode": {
    "name": "ipython",
    "version": 3
   },
   "file_extension": ".py",
   "mimetype": "text/x-python",
   "name": "python",
   "nbconvert_exporter": "python",
   "pygments_lexer": "ipython3",
   "version": "3.8.5"
  }
 },
 "nbformat": 4,
 "nbformat_minor": 4
}
