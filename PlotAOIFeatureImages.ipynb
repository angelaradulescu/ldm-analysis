{
 "cells": [
  {
   "cell_type": "markdown",
   "metadata": {},
   "source": [
    "# Overview of this Notebook"
   ]
  },
  {
   "cell_type": "markdown",
   "metadata": {},
   "source": [
    "This notebook plots the feature images associated with a given subject, block, and trial on respective AOIs. It also plots the fixations per AoI associated with the features."
   ]
  },
  {
   "cell_type": "code",
   "execution_count": 1,
   "metadata": {},
   "outputs": [],
   "source": [
    "%load_ext autoreload\n",
    "%autoreload"
   ]
  },
  {
   "cell_type": "code",
   "execution_count": 2,
   "metadata": {},
   "outputs": [],
   "source": [
    "import plotly.io as pio\n",
    "pio.renderers.default = 'iframe_connected'"
   ]
  },
  {
   "cell_type": "code",
   "execution_count": 5,
   "metadata": {},
   "outputs": [
    {
     "name": "stdout",
     "output_type": "stream",
     "text": [
      "Powered by NivLink0.2.5\n"
     ]
    }
   ],
   "source": [
    "import sys\n",
    "import os\n",
    "\n",
    "import numpy as np\n",
    "import matplotlib.pyplot as plt\n",
    "import matplotlib.cm as cm\n",
    "import matplotlib as matplotlib\n",
    "from matplotlib.colors import ListedColormap\n",
    "import seaborn as sns\n",
    "import scipy.io as io\n",
    "import pandas as pd\n",
    "from pandas import DataFrame, read_csv\n",
    "from nivlink import Screen, Raw, Epochs, align_to_aoi, compute_fixations, plot_heatmaps\n",
    "import cv2\n",
    "import readline\n",
    "from math import dist\n",
    "from scipy.spatial.distance import squareform, pdist\n",
    "\n",
    "import warnings\n",
    "from scipy.stats import kde\n",
    "import nivlink\n",
    "import ipywidgets as wdg\n",
    "from scipy.stats import iqr\n",
    "print('Powered by NivLink' + str(nivlink.__version__))"
   ]
  },
  {
   "cell_type": "code",
   "execution_count": 1,
   "metadata": {},
   "outputs": [],
   "source": [
    "# import custom functions\n",
    "import plotAOIFeatures as paf\n",
    "import plotAOIFixations as pafix\n",
    "import analysisHelperFunctions as ahf\n",
    "import mapAOIFixations as maf"
   ]
  },
  {
   "cell_type": "code",
   "execution_count": 7,
   "metadata": {},
   "outputs": [],
   "source": [
    "## Define global variables ##\n",
    "et_data_dir = os.getcwd() + '/ProcessedData/'# this expects ProcessedData to be in the analysis repo\n",
    "image_dir = os.getcwd().strip('ldm-analysis') + 'FinalStimuli/ByNumber/'\n",
    "raw_data_dir = os.getcwd().strip('ldm-analysis') + 'RawData/' # this expects RawData to be one directory up from the analysis repo\n",
    "\n",
    "## Define screen metadata.\n",
    "xdim, ydim, n_screens = 1280, 1024, 1 \n",
    "aoisidelength = 162\n",
    "n_aois = 9\n",
    "\n",
    "# Define list with all subject ids; remove 33, 66, and 58 for ec and preproc troubles\n",
    "good_subjects =  [23, 26, 27, 28, 29, 30, 31, 34, 35, 36, 37, 38, 39, 40, 41, 42, 43, 44, 45, 46, 47, 49, 53, 54, \n",
    "                 55, 57, 60, 61, 62, 63, 67, 68, 69, 70, 71];"
   ]
  },
  {
   "cell_type": "code",
   "execution_count": 8,
   "metadata": {},
   "outputs": [
    {
     "name": "stdout",
     "output_type": "stream",
     "text": [
      "10\n"
     ]
    },
    {
     "name": "stderr",
     "output_type": "stream",
     "text": [
      "/var/folders/wg/m30l6kjs09l1pxs4fshqx1xxjyhc2c/T/ipykernel_4153/276178501.py:14: SettingWithCopyWarning: \n",
      "A value is trying to be set on a copy of a slice from a DataFrame.\n",
      "Try using .loc[row_indexer,col_indexer] = value instead\n",
      "\n",
      "See the caveats in the documentation: https://pandas.pydata.org/pandas-docs/stable/user_guide/indexing.html#returning-a-view-versus-a-copy\n",
      "  centers['Block'] = [int(s.replace(sub + 'block' + '_', \"\")) for s in list(centers['Unnamed: 0'].values)]\n"
     ]
    }
   ],
   "source": [
    "subj_id = 45\n",
    "block = 10\n",
    "trial = 1\n",
    "n_trials_block = 40\n",
    "## Load data.\n",
    "data, raw_pos_data, messages, sfreq = ahf.load_subj_data(subj_id)\n",
    "\n",
    "## Load all centers.\n",
    "all_centers = pd.read_csv(os.getcwd() + '/allCenters.csv')\n",
    "\n",
    "## Subset this participant's centers. \n",
    "sub = 'Sub' + str(subj_id) + '_'\n",
    "centers = all_centers[all_centers['Unnamed: 0'].str.contains(sub)]\n",
    "centers['Block'] = [int(s.replace(sub + 'block' + '_', \"\")) for s in list(centers['Unnamed: 0'].values)]\n",
    "\n",
    "## Mark run onsets. \n",
    "run_onsets = ahf.get_run_onsets(messages)\n",
    "n_blocks, d = run_onsets.shape\n",
    "print(n_blocks)\n",
    "# Load feature map\n",
    "featmap_file_path = et_data_dir + str(subj_id) + 'featmap.mat'\n",
    "featmap_mat = io.loadmat(featmap_file_path, struct_as_record=False, squeeze_me=True)\n",
    "featmap = np.array(featmap_mat[\"features_aoi_map\"])\n",
    "\n",
    "# Re-format events dataframe. \n",
    "events_df = ahf.rereference_events(subj_id, n_blocks, run_onsets, sfreq)\n",
    "\n",
    "# Load fixations for sub\n",
    "fixations = pd.read_csv(et_data_dir + str(subj_id) + 'fixations.csv')"
   ]
  },
  {
   "cell_type": "code",
   "execution_count": 47,
   "metadata": {},
   "outputs": [
    {
     "name": "stderr",
     "output_type": "stream",
     "text": [
      "/Users/Naiti/Documents/Documents_NBMacBookPro/NYU/EyetrackingProject/ldm-analysis/plotAOIFeatures.py:78: SettingWithCopyWarning: \n",
      "A value is trying to be set on a copy of a slice from a DataFrame.\n",
      "Try using .loc[row_indexer,col_indexer] = value instead\n",
      "\n",
      "See the caveats in the documentation: https://pandas.pydata.org/pandas-docs/stable/user_guide/indexing.html#returning-a-view-versus-a-copy\n",
      "  centers['Block'] = [int(s.replace(sub + 'block' + '_', \"\")) for s in list(centers['Unnamed: 0'].values)]\n"
     ]
    },
    {
     "data": {
      "text/plain": [
       "(<Figure size 270x216 with 2 Axes>, <AxesSubplot:>)"
      ]
     },
     "execution_count": 47,
     "metadata": {},
     "output_type": "execute_result"
    },
    {
     "data": {
      "image/png": "[encoded data removed]",
      "text/plain": [
       "<Figure size 270x216 with 2 Axes>"
      ]
     },
     "metadata": {
      "needs_background": "light"
     },
     "output_type": "display_data"
    }
   ],
   "source": [
    "paf.plotAOIFeatures(39, 10, 7)"
   ]
  },
  {
   "cell_type": "code",
   "execution_count": 46,
   "metadata": {},
   "outputs": [
    {
     "name": "stdout",
     "output_type": "stream",
     "text": [
      "      Unnamed: 0  Trial   AoI  Onset  Offset  Duration  Feature  Block\n",
      "5753         120  367.0   2.0  0.000   0.224     0.224      7.0     10\n",
      "5754         122  367.0   5.0  0.232   0.480     0.248      9.0     10\n",
      "5755         123  367.0  10.0  0.484   0.488     0.004     10.0     10\n",
      "5756         124  367.0   9.0  0.492   0.796     0.304      5.0     10\n",
      "5757         125  367.0  10.0  0.800   0.804     0.004     10.0     10\n",
      "5758         126  367.0   6.0  0.808   0.812     0.004      6.0     10\n",
      "5759         127  367.0  10.0  0.816   0.976     0.160     10.0     10\n",
      "5760         128  367.0   5.0  0.980   1.084     0.104      9.0     10\n",
      "5761         129  367.0  10.0  1.088   1.096     0.008     10.0     10\n",
      "5762         130  367.0   9.0  1.100   1.812     0.712      5.0     10\n",
      "5763         131  367.0  10.0  1.816   1.832     0.016     10.0     10\n",
      "5764         132  367.0   9.0  1.836   1.864     0.028      5.0     10\n",
      "5765         133  367.0  10.0  1.868   2.192     0.324     10.0     10\n",
      "5766         134  367.0   9.0  2.196   2.212     0.016      5.0     10\n",
      "5767         135  367.0  10.0  2.216   2.244     0.028     10.0     10\n",
      "5768         136  367.0   9.0  2.248   2.268     0.020      5.0     10\n",
      "5769         138  367.0   9.0  2.276   2.656     0.380      5.0     10\n",
      "5770         139  367.0  10.0  2.660   2.688     0.028     10.0     10\n",
      "5771         140  367.0  10.0  2.736   2.852     0.116     10.0     10\n",
      "5772         141  367.0   7.0  2.856   2.860     0.004      3.0     10\n",
      "5773         143  367.0   7.0  2.868   2.900     0.032      3.0     10\n",
      "5774         144  367.0  10.0  2.904   2.960     0.056     10.0     10\n",
      "5775         145  367.0  10.0  3.240   3.244     0.004     10.0     10\n",
      "5776         147  367.0   5.0  3.252   3.264     0.012      9.0     10\n",
      "5777         148  367.0   4.0  3.268   3.296     0.028      1.0     10\n",
      "5778         149  367.0  10.0  3.300   3.312     0.012     10.0     10\n",
      "5779         150  367.0   4.0  3.316   3.400     0.084      1.0     10\n",
      "5780         151  367.0  10.0  3.404   3.460     0.056     10.0     10\n"
     ]
    },
    {
     "name": "stderr",
     "output_type": "stream",
     "text": [
      "/Users/Naiti/Documents/Documents_NBMacBookPro/NYU/EyetrackingProject/ldm-analysis/plotAOIFixations.py:140: SettingWithCopyWarning: \n",
      "A value is trying to be set on a copy of a slice from a DataFrame.\n",
      "Try using .loc[row_indexer,col_indexer] = value instead\n",
      "\n",
      "See the caveats in the documentation: https://pandas.pydata.org/pandas-docs/stable/user_guide/indexing.html#returning-a-view-versus-a-copy\n",
      "  centers['Block'] = [int(s.replace(sub + 'block' + '_', \"\")) for s in list(centers['Unnamed: 0'].values)]\n"
     ]
    },
    {
     "data": {
      "text/plain": [
       "(<Figure size 270x216 with 2 Axes>, <AxesSubplot:>)"
      ]
     },
     "execution_count": 46,
     "metadata": {},
     "output_type": "execute_result"
    },
    {
     "data": {
      "image/png": "[encoded data removed]",
      "text/plain": [
       "<Figure size 270x216 with 2 Axes>"
      ]
     },
     "metadata": {
      "needs_background": "light"
     },
     "output_type": "display_data"
    }
   ],
   "source": [
    "pafix.plotAOIFixations(39,10,7)"
   ]
  },
  {
   "cell_type": "markdown",
   "metadata": {},
   "source": [
    "# Plot Looking Time Visualization"
   ]
  },
  {
   "cell_type": "code",
   "execution_count": 8,
   "metadata": {},
   "outputs": [],
   "source": [
    "looking_time_df = {}\n",
    "for subj_id in good_subjects:\n",
    "    fixations = pd.read_csv(et_data_dir + str(subj_id) + 'fixations.csv')\n",
    "    duration_summary = fixations.groupby(['Trial', 'Block','Feature'])['Duration'].sum()\n",
    "    looking_time_df['Sub' + str(subj_id)] = duration_summary\n",
    "looking_time_df = pd.DataFrame(looking_time_df).fillna(0).reset_index()"
   ]
  },
  {
   "cell_type": "code",
   "execution_count": 11,
   "metadata": {},
   "outputs": [],
   "source": [
    "looking_time_df = pd.wide_to_long(looking_time_df, 'Sub', i=['Trial', 'Block', 'Feature'], j=\"Subj\").rename(columns={\"Sub\": \"Duration\"}).unstack(level='Feature').reset_index()"
   ]
  },
  {
   "cell_type": "code",
   "execution_count": 12,
   "metadata": {},
   "outputs": [],
   "source": [
    "for index, row in looking_time_df.iterrows():\n",
    "    total_looking_time = row.Duration.sum()\n",
    "    looking_time_df.loc[index, 'TotalLookingTime'] = total_looking_time\n",
    "looking_time_df.columns = looking_time_df.columns.to_flat_index()\n",
    "looking_time_df = looking_time_df.rename(columns={('Duration',  1.0): 'Feature1',('Duration',  2.0): 'Feature2', ('Duration',  3.0): 'Feature3',\n",
    "                        ('Duration',  4.0): 'Feature4',('Duration',  5.0): 'Feature5', ('Duration',  6.0): 'Feature6',\n",
    "                        ('Duration',  7.0): 'Feature7',('Duration',  8.0): 'Feature8', ('Duration',  9.0): 'Feature9',\n",
    "                        ('Duration',  10.0): 'Feature10', ('Trial', ''):'Trial', ('Block', ''):'Block',\n",
    "                        ('Subj', ''):'Subj', ('TotalLookingTime', ''):'TotalLookingTime'})"
   ]
  },
  {
   "cell_type": "code",
   "execution_count": 13,
   "metadata": {},
   "outputs": [
    {
     "data": {
      "text/html": [
       "<div>\n",
       "<style scoped>\n",
       "    .dataframe tbody tr th:only-of-type {\n",
       "        vertical-align: middle;\n",
       "    }\n",
       "\n",
       "    .dataframe tbody tr th {\n",
       "        vertical-align: top;\n",
       "    }\n",
       "\n",
       "    .dataframe thead th {\n",
       "        text-align: right;\n",
       "    }\n",
       "</style>\n",
       "<table border=\"1\" class=\"dataframe\">\n",
       "  <thead>\n",
       "    <tr style=\"text-align: right;\">\n",
       "      <th></th>\n",
       "      <th>Trial</th>\n",
       "      <th>Block</th>\n",
       "      <th>Subj</th>\n",
       "      <th>Feature1</th>\n",
       "      <th>Feature2</th>\n",
       "      <th>Feature3</th>\n",
       "      <th>Feature4</th>\n",
       "      <th>Feature5</th>\n",
       "      <th>Feature6</th>\n",
       "      <th>Feature7</th>\n",
       "      <th>Feature8</th>\n",
       "      <th>Feature9</th>\n",
       "      <th>Feature10</th>\n",
       "      <th>TotalLookingTime</th>\n",
       "    </tr>\n",
       "  </thead>\n",
       "  <tbody>\n",
       "    <tr>\n",
       "      <th>0</th>\n",
       "      <td>1.0</td>\n",
       "      <td>1</td>\n",
       "      <td>23</td>\n",
       "      <td>0.224</td>\n",
       "      <td>0.904</td>\n",
       "      <td>0.000</td>\n",
       "      <td>0.000</td>\n",
       "      <td>0.568</td>\n",
       "      <td>0.000</td>\n",
       "      <td>1.688</td>\n",
       "      <td>0.028</td>\n",
       "      <td>0.000</td>\n",
       "      <td>0.364</td>\n",
       "      <td>3.776</td>\n",
       "    </tr>\n",
       "    <tr>\n",
       "      <th>1</th>\n",
       "      <td>1.0</td>\n",
       "      <td>1</td>\n",
       "      <td>26</td>\n",
       "      <td>0.000</td>\n",
       "      <td>0.000</td>\n",
       "      <td>0.196</td>\n",
       "      <td>0.000</td>\n",
       "      <td>0.208</td>\n",
       "      <td>0.228</td>\n",
       "      <td>2.260</td>\n",
       "      <td>0.000</td>\n",
       "      <td>0.260</td>\n",
       "      <td>0.420</td>\n",
       "      <td>3.572</td>\n",
       "    </tr>\n",
       "    <tr>\n",
       "      <th>2</th>\n",
       "      <td>1.0</td>\n",
       "      <td>1</td>\n",
       "      <td>27</td>\n",
       "      <td>0.000</td>\n",
       "      <td>0.000</td>\n",
       "      <td>1.320</td>\n",
       "      <td>0.000</td>\n",
       "      <td>0.028</td>\n",
       "      <td>0.000</td>\n",
       "      <td>0.000</td>\n",
       "      <td>0.000</td>\n",
       "      <td>2.200</td>\n",
       "      <td>0.236</td>\n",
       "      <td>3.784</td>\n",
       "    </tr>\n",
       "    <tr>\n",
       "      <th>3</th>\n",
       "      <td>1.0</td>\n",
       "      <td>1</td>\n",
       "      <td>28</td>\n",
       "      <td>1.432</td>\n",
       "      <td>0.000</td>\n",
       "      <td>0.000</td>\n",
       "      <td>0.000</td>\n",
       "      <td>0.268</td>\n",
       "      <td>0.000</td>\n",
       "      <td>0.000</td>\n",
       "      <td>0.264</td>\n",
       "      <td>1.068</td>\n",
       "      <td>0.784</td>\n",
       "      <td>3.816</td>\n",
       "    </tr>\n",
       "    <tr>\n",
       "      <th>4</th>\n",
       "      <td>1.0</td>\n",
       "      <td>1</td>\n",
       "      <td>29</td>\n",
       "      <td>0.196</td>\n",
       "      <td>0.000</td>\n",
       "      <td>0.080</td>\n",
       "      <td>0.008</td>\n",
       "      <td>0.156</td>\n",
       "      <td>0.232</td>\n",
       "      <td>1.600</td>\n",
       "      <td>0.000</td>\n",
       "      <td>0.900</td>\n",
       "      <td>0.100</td>\n",
       "      <td>3.272</td>\n",
       "    </tr>\n",
       "    <tr>\n",
       "      <th>...</th>\n",
       "      <td>...</td>\n",
       "      <td>...</td>\n",
       "      <td>...</td>\n",
       "      <td>...</td>\n",
       "      <td>...</td>\n",
       "      <td>...</td>\n",
       "      <td>...</td>\n",
       "      <td>...</td>\n",
       "      <td>...</td>\n",
       "      <td>...</td>\n",
       "      <td>...</td>\n",
       "      <td>...</td>\n",
       "      <td>...</td>\n",
       "      <td>...</td>\n",
       "    </tr>\n",
       "    <tr>\n",
       "      <th>13995</th>\n",
       "      <td>400.0</td>\n",
       "      <td>10</td>\n",
       "      <td>67</td>\n",
       "      <td>0.400</td>\n",
       "      <td>0.684</td>\n",
       "      <td>0.988</td>\n",
       "      <td>1.260</td>\n",
       "      <td>0.000</td>\n",
       "      <td>0.024</td>\n",
       "      <td>0.000</td>\n",
       "      <td>0.000</td>\n",
       "      <td>0.000</td>\n",
       "      <td>0.564</td>\n",
       "      <td>3.920</td>\n",
       "    </tr>\n",
       "    <tr>\n",
       "      <th>13996</th>\n",
       "      <td>400.0</td>\n",
       "      <td>10</td>\n",
       "      <td>68</td>\n",
       "      <td>0.000</td>\n",
       "      <td>0.000</td>\n",
       "      <td>0.000</td>\n",
       "      <td>0.000</td>\n",
       "      <td>0.000</td>\n",
       "      <td>1.237</td>\n",
       "      <td>0.651</td>\n",
       "      <td>1.695</td>\n",
       "      <td>0.000</td>\n",
       "      <td>0.415</td>\n",
       "      <td>3.998</td>\n",
       "    </tr>\n",
       "    <tr>\n",
       "      <th>13997</th>\n",
       "      <td>400.0</td>\n",
       "      <td>10</td>\n",
       "      <td>69</td>\n",
       "      <td>0.000</td>\n",
       "      <td>0.000</td>\n",
       "      <td>0.000</td>\n",
       "      <td>0.000</td>\n",
       "      <td>0.000</td>\n",
       "      <td>0.332</td>\n",
       "      <td>0.368</td>\n",
       "      <td>0.716</td>\n",
       "      <td>2.516</td>\n",
       "      <td>0.032</td>\n",
       "      <td>3.964</td>\n",
       "    </tr>\n",
       "    <tr>\n",
       "      <th>13998</th>\n",
       "      <td>400.0</td>\n",
       "      <td>10</td>\n",
       "      <td>70</td>\n",
       "      <td>1.180</td>\n",
       "      <td>0.000</td>\n",
       "      <td>0.568</td>\n",
       "      <td>0.000</td>\n",
       "      <td>0.328</td>\n",
       "      <td>1.460</td>\n",
       "      <td>0.000</td>\n",
       "      <td>0.000</td>\n",
       "      <td>0.000</td>\n",
       "      <td>0.388</td>\n",
       "      <td>3.924</td>\n",
       "    </tr>\n",
       "    <tr>\n",
       "      <th>13999</th>\n",
       "      <td>400.0</td>\n",
       "      <td>10</td>\n",
       "      <td>71</td>\n",
       "      <td>0.000</td>\n",
       "      <td>0.000</td>\n",
       "      <td>0.016</td>\n",
       "      <td>0.000</td>\n",
       "      <td>0.000</td>\n",
       "      <td>0.000</td>\n",
       "      <td>0.724</td>\n",
       "      <td>0.720</td>\n",
       "      <td>2.156</td>\n",
       "      <td>0.248</td>\n",
       "      <td>3.864</td>\n",
       "    </tr>\n",
       "  </tbody>\n",
       "</table>\n",
       "<p>14000 rows × 14 columns</p>\n",
       "</div>"
      ],
      "text/plain": [
       "       Trial  Block  Subj  Feature1  Feature2  Feature3  Feature4  Feature5  \\\n",
       "0        1.0      1    23     0.224     0.904     0.000     0.000     0.568   \n",
       "1        1.0      1    26     0.000     0.000     0.196     0.000     0.208   \n",
       "2        1.0      1    27     0.000     0.000     1.320     0.000     0.028   \n",
       "3        1.0      1    28     1.432     0.000     0.000     0.000     0.268   \n",
       "4        1.0      1    29     0.196     0.000     0.080     0.008     0.156   \n",
       "...      ...    ...   ...       ...       ...       ...       ...       ...   \n",
       "13995  400.0     10    67     0.400     0.684     0.988     1.260     0.000   \n",
       "13996  400.0     10    68     0.000     0.000     0.000     0.000     0.000   \n",
       "13997  400.0     10    69     0.000     0.000     0.000     0.000     0.000   \n",
       "13998  400.0     10    70     1.180     0.000     0.568     0.000     0.328   \n",
       "13999  400.0     10    71     0.000     0.000     0.016     0.000     0.000   \n",
       "\n",
       "       Feature6  Feature7  Feature8  Feature9  Feature10  TotalLookingTime  \n",
       "0         0.000     1.688     0.028     0.000      0.364             3.776  \n",
       "1         0.228     2.260     0.000     0.260      0.420             3.572  \n",
       "2         0.000     0.000     0.000     2.200      0.236             3.784  \n",
       "3         0.000     0.000     0.264     1.068      0.784             3.816  \n",
       "4         0.232     1.600     0.000     0.900      0.100             3.272  \n",
       "...         ...       ...       ...       ...        ...               ...  \n",
       "13995     0.024     0.000     0.000     0.000      0.564             3.920  \n",
       "13996     1.237     0.651     1.695     0.000      0.415             3.998  \n",
       "13997     0.332     0.368     0.716     2.516      0.032             3.964  \n",
       "13998     1.460     0.000     0.000     0.000      0.388             3.924  \n",
       "13999     0.000     0.724     0.720     2.156      0.248             3.864  \n",
       "\n",
       "[14000 rows x 14 columns]"
      ]
     },
     "execution_count": 13,
     "metadata": {},
     "output_type": "execute_result"
    }
   ],
   "source": [
    "looking_time_df"
   ]
  },
  {
   "cell_type": "code",
   "execution_count": 36,
   "metadata": {},
   "outputs": [],
   "source": [
    "from matplotlib.colors import ListedColormap\n",
    "from mpl_toolkits.axes_grid1 import make_axes_locatable\n",
    "def plotLookingTime(subj_id,block,trial, height=3,ticks=False):\n",
    "    ## Load data.\n",
    "    data, raw_pos_data, messages, sfreq = ahf.load_subj_data(subj_id)\n",
    "\n",
    "    ## Mark run onsets.\n",
    "    run_onsets = ahf.get_run_onsets(messages)\n",
    "    n_blocks, d = run_onsets.shape\n",
    "\n",
    "    # Load feature map\n",
    "    featmap_file_path = et_data_dir + str(subj_id) + 'featmap.mat'\n",
    "    featmap_mat = io.loadmat(featmap_file_path, struct_as_record=False, squeeze_me=True)\n",
    "    featmap = np.array(featmap_mat[\"features_aoi_map\"])\n",
    "\n",
    "    # Re-format events dataframe.\n",
    "    events_df = ahf.rereference_events(subj_id, n_blocks, run_onsets, sfreq)\n",
    "\n",
    "    # Subselect this block's events.\n",
    "    this_block = events_df.loc[events_df['block'] == float(block)]\n",
    "    this_block_idx = events_df.index[events_df['block'] == float(block)].values\n",
    "    n_trials_block = this_block.shape[0]\n",
    "\n",
    "    # Subselect featmap.\n",
    "    this_block_featmap = featmap[this_block_idx,:]\n",
    "    # Add \"null\" AoI.\n",
    "    this_block_featmap = np.hstack((this_block_featmap, np.ones((this_block_featmap.shape[0],1)) * 10))\n",
    "    n_trials_block = this_block.shape[0]\n",
    "    # Subselect trial\n",
    "    trial_idx = trial-1\n",
    "    this_trial_featmap = this_block_featmap[trial_idx]\n",
    "\n",
    "    ## Initialize indices and labels of plot.\n",
    "    indices = np.zeros((xdim,ydim,n_screens))\n",
    "    labels = ()\n",
    "\n",
    "    ## Load all centers.\n",
    "    all_centers = pd.read_csv(os.getcwd() + '/allCenters.csv')\n",
    "\n",
    "    ## Subset this participant's centers.\n",
    "    sub = 'Sub' + str(subj_id) + '_'\n",
    "    centers = all_centers[all_centers['Unnamed: 0'].str.contains(sub)]\n",
    "    centers['Block'] = [int(s.replace(sub + 'block' + '_', \"\")) for s in list(centers['Unnamed: 0'].values)]\n",
    "\n",
    "    # Grab block centers.\n",
    "    block_centers = centers[centers['Block'] == int(block)]\n",
    "    for a in range(0, n_aois):\n",
    "        col_names = ['aoi' + str(a) + '_x', 'aoi' + str(a) + '_y']\n",
    "        this_aoi_centers = block_centers[col_names].iloc[0].values\n",
    "\n",
    "        # make array underlying screen using indices array with a different color for each aoi\n",
    "        isfrac = lambda v: True if v < 1 and v > 0 else False\n",
    "        xmin, xmax = [int(xdim * x) if isfrac(x) else int(x) for x in [this_aoi_centers[0]-aoisidelength//2, this_aoi_centers[0]+aoisidelength//2]]\n",
    "        ymin, ymax = [int(ydim * y) if isfrac(y) else int(y) for y in [this_aoi_centers[1]-aoisidelength//2, this_aoi_centers[1]+aoisidelength//2]]\n",
    "\n",
    "        # set color equal to feature number\n",
    "        feat_num = int(this_trial_featmap[a])\n",
    "        indices[xmin:xmax,ymin:ymax,0] = feat_num\n",
    "\n",
    "        # values, curr_indices = np.unique(indices, return_inverse=True)\n",
    "\n",
    "        # if np.all(values): curr_indices += 1\n",
    "        # indices = curr_indices.reshape(xdim, ydim, n_screens)\n",
    "        labels = tuple(range(1,int(n_aois)+1))\n",
    "\n",
    "    ## Initialize plot.\n",
    "    ratio = float(xdim) / float(ydim)\n",
    "    fig, ax = plt.subplots(1,1,figsize=(ratio*height, height))\n",
    "    divider = make_axes_locatable(ax)\n",
    "    cax = divider.append_axes(\"right\", size=\"3%\", pad=0.05)\n",
    "\n",
    "    ## Initialize colormap.\n",
    "    # Collect hex values from standard colormap.\n",
    "    cmap = cm.get_cmap('tab20', 20)\n",
    "\n",
    "    colors = []\n",
    "    for i in range(cmap.N):\n",
    "        rgb = cmap(i)[:3] # will return rgba, we take only first 3 so we get rgb\n",
    "        colors.append(matplotlib.colors.rgb2hex(rgb))\n",
    "\n",
    "    colors = colors[:len(labels)]\n",
    "\n",
    "    # Add black.\n",
    "    if np.any(indices==0): colors = np.insert(colors, 0, 'k')\n",
    "\n",
    "    # Construct new colormap.\n",
    "    cmap = ListedColormap(colors)\n",
    "    ## Plotting.\n",
    "    cbar = ax.imshow(indices[:,:,-1].T, cmap=cmap, aspect='auto', vmin=0, vmax=len(labels))\n",
    "    fig.colorbar(cbar, cax, ticks=np.arange(len(cmap.colors)))\n",
    "    if not ticks: ax.set(xticks=[], yticks=[])\n",
    "\n",
    "    for a in range(0, n_aois):\n",
    "        col_names = ['aoi' + str(a) + '_x', 'aoi' + str(a) + '_y']\n",
    "        this_aoi_centers = block_centers[col_names].iloc[0].values\n",
    "\n",
    "        xy = (this_aoi_centers[0], this_aoi_centers[1])\n",
    "\n",
    "        feat_num = int(this_trial_featmap[a])\n",
    "\n",
    "        ax.annotate(str(feat_num), # this is the text\n",
    "                    xy, # these are the coordinates to position the label\n",
    "                    textcoords=\"offset points\", # how to position the text\n",
    "                    xytext=(0,0), # distance from text to points (x,y)\n",
    "                    ha='center')\n",
    "\n",
    "        # grab fixations for this aoi\n",
    "        this_looking_time = looking_time_df.loc[looking_time_df['Subj'] == subj_id]\n",
    "        this_looking_time = this_looking_time.loc[this_looking_time['Block'] == block]\n",
    "        this_looking_time = this_looking_time.loc[this_looking_time['Trial'] == ((block-1)*n_trials_block)+trial]\n",
    "        feature_lookingtime = this_looking_time['Feature' + str(feat_num)].item()\n",
    "        circle = plt.Circle(xy, feature_lookingtime*100, alpha=0.7)\n",
    "        ax.add_patch(circle)\n",
    "    return fig, ax\n",
    "\n",
    "    "
   ]
  },
  {
   "cell_type": "code",
   "execution_count": 45,
   "metadata": {},
   "outputs": [
    {
     "name": "stderr",
     "output_type": "stream",
     "text": [
      "/var/folders/pt/mk_d2k8923lbq911vprvfth00000gn/T/ipykernel_4585/4271138694.py:43: SettingWithCopyWarning: \n",
      "A value is trying to be set on a copy of a slice from a DataFrame.\n",
      "Try using .loc[row_indexer,col_indexer] = value instead\n",
      "\n",
      "See the caveats in the documentation: https://pandas.pydata.org/pandas-docs/stable/user_guide/indexing.html#returning-a-view-versus-a-copy\n",
      "  centers['Block'] = [int(s.replace(sub + 'block' + '_', \"\")) for s in list(centers['Unnamed: 0'].values)]\n"
     ]
    },
    {
     "data": {
      "text/plain": [
       "(<Figure size 270x216 with 2 Axes>, <AxesSubplot:>)"
      ]
     },
     "execution_count": 45,
     "metadata": {},
     "output_type": "execute_result"
    },
    {
     "data": {
      "image/png": "[encoded data removed]",
      "text/plain": [
       "<Figure size 270x216 with 2 Axes>"
      ]
     },
     "metadata": {
      "needs_background": "light"
     },
     "output_type": "display_data"
    }
   ],
   "source": [
    "plotLookingTime(39,10,7)"
   ]
  }
 ],
 "metadata": {
  "interpreter": {
   "hash": "40d3a090f54c6569ab1632332b64b2c03c39dcf918b08424e98f38b5ae0af88f"
  },
  "kernelspec": {
   "display_name": "Python 3 (ipykernel)",
   "language": "python",
   "name": "python3"
  },
  "language_info": {
   "codemirror_mode": {
    "name": "ipython",
    "version": 3
   },
   "file_extension": ".py",
   "mimetype": "text/x-python",
   "name": "python",
   "nbconvert_exporter": "python",
   "pygments_lexer": "ipython3",
   "version": "3.9.7"
  },
  "orig_nbformat": 4
 },
 "nbformat": 4,
 "nbformat_minor": 2
}
