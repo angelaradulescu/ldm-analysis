{
 "cells": [
  {
   "cell_type": "markdown",
   "metadata": {},
   "source": [
    "# Overview of this Notebook"
   ]
  },
  {
   "cell_type": "markdown",
   "metadata": {},
   "source": [
    "This notebook plots the feature images associated with a given subject, block, and trial on respective AOIs. It also plots the fixations per AoI associated with the features."
   ]
  },
  {
   "cell_type": "code",
   "execution_count": 4,
   "metadata": {},
   "outputs": [],
   "source": [
    "%load_ext autoreload\n",
    "%autoreload"
   ]
  },
  {
   "cell_type": "code",
   "execution_count": 1,
   "metadata": {},
   "outputs": [],
   "source": [
    "import plotly.io as pio\n",
    "pio.renderers.default = 'iframe_connected'"
   ]
  },
  {
   "cell_type": "code",
   "execution_count": 2,
   "metadata": {},
   "outputs": [
    {
     "name": "stdout",
     "output_type": "stream",
     "text": [
      "Powered by NivLink0.2.5\n"
     ]
    }
   ],
   "source": [
    "import sys\n",
    "import os\n",
    "\n",
    "import numpy as np\n",
    "import matplotlib.pyplot as plt\n",
    "import matplotlib.cm as cm\n",
    "import matplotlib as matplotlib\n",
    "from matplotlib.colors import ListedColormap\n",
    "import seaborn as sns\n",
    "import scipy.io as io\n",
    "import pandas as pd\n",
    "from pandas import DataFrame, read_csv\n",
    "from nivlink import Screen, Raw, Epochs, align_to_aoi, compute_fixations, plot_heatmaps\n",
    "import cv2\n",
    "import readline\n",
    "from math import dist\n",
    "from scipy.spatial.distance import squareform, pdist\n",
    "\n",
    "import warnings\n",
    "from scipy.stats import kde\n",
    "import nivlink\n",
    "import ipywidgets as wdg\n",
    "from scipy.stats import iqr\n",
    "print('Powered by NivLink' + str(nivlink.__version__))"
   ]
  },
  {
   "cell_type": "code",
   "execution_count": 1,
   "metadata": {},
   "outputs": [],
   "source": [
    "# import custom functions\n",
    "import plotAOIFeatures as paf\n",
    "import plotAOIFixations as pafix\n",
    "import analysisHelperFunctions as ahf\n",
    "import mapAOIFixations as maf"
   ]
  },
  {
   "cell_type": "code",
   "execution_count": 4,
   "metadata": {},
   "outputs": [],
   "source": [
    "## Define global variables ##\n",
    "et_data_dir = os.getcwd() + '/ProcessedData/'# this expects ProcessedData to be one directory up from the analysis repo\n",
    "image_dir = os.getcwd().strip('ldm-analysis') + 'FinalStimuli/ByNumber/'\n",
    "raw_data_dir = os.getcwd().strip('ldm-analysis') + 'RawData/' # this expects RawData to be one directory up from the analysis repo\n",
    "\n",
    "## Define screen metadata.\n",
    "xdim, ydim, n_screens = 1280, 1024, 1 \n",
    "aoisidelength = 162\n",
    "n_aois = 9"
   ]
  },
  {
   "cell_type": "code",
   "execution_count": 8,
   "metadata": {},
   "outputs": [
    {
     "name": "stdout",
     "output_type": "stream",
     "text": [
      "10\n"
     ]
    },
    {
     "name": "stderr",
     "output_type": "stream",
     "text": [
      "/var/folders/wg/m30l6kjs09l1pxs4fshqx1xxjyhc2c/T/ipykernel_4153/276178501.py:14: SettingWithCopyWarning: \n",
      "A value is trying to be set on a copy of a slice from a DataFrame.\n",
      "Try using .loc[row_indexer,col_indexer] = value instead\n",
      "\n",
      "See the caveats in the documentation: https://pandas.pydata.org/pandas-docs/stable/user_guide/indexing.html#returning-a-view-versus-a-copy\n",
      "  centers['Block'] = [int(s.replace(sub + 'block' + '_', \"\")) for s in list(centers['Unnamed: 0'].values)]\n"
     ]
    }
   ],
   "source": [
    "subj_id = 45\n",
    "block = 10\n",
    "trial = 1\n",
    "n_trials_block = 40\n",
    "## Load data.\n",
    "data, raw_pos_data, messages, sfreq = ahf.load_subj_data(subj_id)\n",
    "\n",
    "## Load all centers.\n",
    "all_centers = pd.read_csv(os.getcwd() + '/allCenters.csv')\n",
    "\n",
    "## Subset this participant's centers. \n",
    "sub = 'Sub' + str(subj_id) + '_'\n",
    "centers = all_centers[all_centers['Unnamed: 0'].str.contains(sub)]\n",
    "centers['Block'] = [int(s.replace(sub + 'block' + '_', \"\")) for s in list(centers['Unnamed: 0'].values)]\n",
    "\n",
    "## Mark run onsets. \n",
    "run_onsets = ahf.get_run_onsets(messages)\n",
    "n_blocks, d = run_onsets.shape\n",
    "print(n_blocks)\n",
    "# Load feature map\n",
    "featmap_file_path = et_data_dir + str(subj_id) + 'featmap.mat'\n",
    "featmap_mat = io.loadmat(featmap_file_path, struct_as_record=False, squeeze_me=True)\n",
    "featmap = np.array(featmap_mat[\"features_aoi_map\"])\n",
    "\n",
    "# Re-format events dataframe. \n",
    "events_df = ahf.rereference_events(subj_id, n_blocks, run_onsets, sfreq)\n",
    "\n",
    "# Load fixations for sub\n",
    "fixations = pd.read_csv(et_data_dir + str(subj_id) + 'fixations.csv')\n",
    "fixations = fixations.rename(columns={'Unnamed: 0': 'WithinBlockCount'})\n",
    "# split the fixations df based on block to get a list of indices when the block number changes\n",
    "grouped = fixations.groupby(fixations.WithinBlockCount)\n",
    "df_getindexes = grouped.get_group(0)\n",
    "index_start_list = df_getindexes.index.values.tolist()\n",
    "index_start_list.append(fixations.shape[0])\n",
    "if index_start_list[0] != 0:\n",
    "    index_start_list.insert(0, 0)\n",
    "# use list of indices to make a new column\n",
    "new_col = np.ones((fixations.shape[0])).astype(int)\n",
    "# subj 39, block 4 is empty\n",
    "if subj_id == 39:\n",
    "    for block_num in np.arange(3):\n",
    "        new_col[index_start_list[block_num]:index_start_list[block_num+1]] = new_col[index_start_list[block_num]:index_start_list[block_num+1]]*(block_num+1)\n",
    "    for block_num in np.arange(4,n_blocks):\n",
    "        new_col[index_start_list[block_num-1]:index_start_list[block_num]] = new_col[index_start_list[block_num-1]:index_start_list[block_num]]*(block_num+1)\n",
    "else: \n",
    "    for block_num in np.arange(n_blocks):\n",
    "        new_col[index_start_list[block_num]:index_start_list[block_num+1]] = new_col[index_start_list[block_num]:index_start_list[block_num+1]]*(block_num+1)\n",
    "fixations['BlockNumber'] = new_col"
   ]
  },
  {
   "cell_type": "code",
   "execution_count": 13,
   "metadata": {},
   "outputs": [
    {
     "data": {
      "text/plain": [
       "(<Figure size 270x216 with 2 Axes>, <AxesSubplot:>)"
      ]
     },
     "execution_count": 13,
     "metadata": {},
     "output_type": "execute_result"
    },
    {
     "data": {
      "image/png": "[encoded data removed]",
      "text/plain": [
       "<Figure size 270x216 with 2 Axes>"
      ]
     },
     "metadata": {
      "needs_background": "light"
     },
     "output_type": "display_data"
    }
   ],
   "source": [
    "paf.plotAOIFeatures(71, 10, 1)"
   ]
  },
  {
   "cell_type": "code",
   "execution_count": 14,
   "metadata": {},
   "outputs": [
    {
     "data": {
      "text/plain": [
       "(<Figure size 270x216 with 2 Axes>, <AxesSubplot:>)"
      ]
     },
     "execution_count": 14,
     "metadata": {},
     "output_type": "execute_result"
    },
    {
     "data": {
      "image/png": "[encoded data removed]",
      "text/plain": [
       "<Figure size 270x216 with 2 Axes>"
      ]
     },
     "metadata": {
      "needs_background": "light"
     },
     "output_type": "display_data"
    }
   ],
   "source": [
    "pafix.plotAOIFixations(71,10,1)"
   ]
  }
 ],
 "metadata": {
  "interpreter": {
   "hash": "40d3a090f54c6569ab1632332b64b2c03c39dcf918b08424e98f38b5ae0af88f"
  },
  "kernelspec": {
   "display_name": "Python 3 (ipykernel)",
   "language": "python",
   "name": "python3"
  },
  "language_info": {
   "codemirror_mode": {
    "name": "ipython",
    "version": 3
   },
   "file_extension": ".py",
   "mimetype": "text/x-python",
   "name": "python",
   "nbconvert_exporter": "python",
   "pygments_lexer": "ipython3",
   "version": "3.9.7"
  },
  "orig_nbformat": 4
 },
 "nbformat": 4,
 "nbformat_minor": 2
}
