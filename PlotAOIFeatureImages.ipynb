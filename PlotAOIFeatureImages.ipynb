{
 "cells": [
  {
   "cell_type": "markdown",
   "metadata": {},
   "source": [
    "# Overview of this Notebook"
   ]
  },
  {
   "cell_type": "markdown",
   "metadata": {},
   "source": [
    "This notebook plots the feature images associated with a given subject, block, and trial on respective AOIs."
   ]
  },
  {
   "cell_type": "code",
   "execution_count": 1,
   "metadata": {},
   "outputs": [],
   "source": [
    "%load_ext autoreload\n",
    "%autoreload"
   ]
  },
  {
   "cell_type": "code",
   "execution_count": 4,
   "metadata": {},
   "outputs": [],
   "source": [
    "import plotly.io as pio\n",
    "pio.renderers.default = 'iframe_connected'"
   ]
  },
  {
   "cell_type": "code",
   "execution_count": 3,
   "metadata": {},
   "outputs": [
    {
     "name": "stdout",
     "output_type": "stream",
     "text": [
      "Powered by NivLink0.2.5\n"
     ]
    }
   ],
   "source": [
    "import sys\n",
    "import os\n",
    "\n",
    "import numpy as np\n",
    "import matplotlib.pyplot as plt\n",
    "import matplotlib.cm as cm\n",
    "import matplotlib as matplotlib\n",
    "from matplotlib.colors import ListedColormap\n",
    "import seaborn as sns\n",
    "import scipy.io as io\n",
    "import pandas as pd\n",
    "from pandas import DataFrame, read_csv\n",
    "from nivlink import Screen, Raw, Epochs, align_to_aoi, compute_fixations, plot_heatmaps\n",
    "import cv2\n",
    "import readline\n",
    "from math import dist\n",
    "from scipy.spatial.distance import squareform, pdist\n",
    "\n",
    "import warnings\n",
    "from scipy.stats import kde\n",
    "import nivlink\n",
    "import ipywidgets as wdg\n",
    "from scipy.stats import iqr\n",
    "print('Powered by NivLink' + str(nivlink.__version__))"
   ]
  },
  {
   "cell_type": "code",
   "execution_count": 1,
   "metadata": {},
   "outputs": [],
   "source": [
    "# import custom functions\n",
    "import plotAOIFeatures as paf"
   ]
  },
  {
   "cell_type": "code",
   "execution_count": 5,
   "metadata": {},
   "outputs": [],
   "source": [
    "## Define global variables ##\n",
    "et_data_dir = os.getcwd().strip('ldm-analysis') + 'ProcessedData/'# this expects ProcessedData to be one directory up from the analysis repo\n",
    "image_dir = os.getcwd().strip('ldm-analysis') + 'FinalStimuli/ByNumber/'\n",
    "\n",
    "## Define screen metadata.\n",
    "xdim, ydim, n_screens = 1280, 1024, 1 \n",
    "aoisidelength = 162\n",
    "n_aois = 9"
   ]
  },
  {
   "cell_type": "code",
   "execution_count": 6,
   "metadata": {},
   "outputs": [
    {
     "name": "stdout",
     "output_type": "stream",
     "text": [
      "10\n",
      "[0, 900, 1757, 2761, 3549, 4393, 5231, 6066, 7038, 7904, 8762]\n"
     ]
    },
    {
     "name": "stderr",
     "output_type": "stream",
     "text": [
      "/var/folders/pt/mk_d2k8923lbq911vprvfth00000gn/T/ipykernel_4812/4020709384.py:14: SettingWithCopyWarning:\n",
      "\n",
      "\n",
      "A value is trying to be set on a copy of a slice from a DataFrame.\n",
      "Try using .loc[row_indexer,col_indexer] = value instead\n",
      "\n",
      "See the caveats in the documentation: https://pandas.pydata.org/pandas-docs/stable/user_guide/indexing.html#returning-a-view-versus-a-copy\n",
      "\n"
     ]
    }
   ],
   "source": [
    "subj_id = 45\n",
    "block = 10\n",
    "trial = 1\n",
    "n_trials_block = 40\n",
    "## Load data.\n",
    "data, raw_pos_data, messages, sfreq = paf.load_subj_data(subj_id)\n",
    "\n",
    "## Load all centers.\n",
    "all_centers = pd.read_csv(os.getcwd() + '/allCenters.csv')\n",
    "\n",
    "## Subset this participant's centers. \n",
    "sub = 'Sub' + str(subj_id) + '_'\n",
    "centers = all_centers[all_centers['Unnamed: 0'].str.contains(sub)]\n",
    "centers['Block'] = [int(s.replace(sub + 'block' + '_', \"\")) for s in list(centers['Unnamed: 0'].values)]\n",
    "\n",
    "## Mark run onsets. \n",
    "run_onsets = paf.get_run_onsets(messages)\n",
    "n_blocks, d = run_onsets.shape\n",
    "\n",
    "# Load feature map\n",
    "featmap_file_path = et_data_dir + str(subj_id) + 'featmap.mat'\n",
    "featmap_mat = io.loadmat(featmap_file_path, struct_as_record=False, squeeze_me=True)\n",
    "featmap = np.array(featmap_mat[\"features_aoi_map\"])\n",
    "\n",
    "# Re-format events dataframe. \n",
    "events_df = paf.rereference_events(subj_id, n_blocks, run_onsets, sfreq)\n",
    "\n",
    "# Load fixations for sub\n",
    "fixations = pd.read_csv(et_data_dir + str(subj_id) + 'fixations.csv')\n",
    "fixations = fixations.rename(columns={'Unnamed: 0': 'WithinBlockCount'})\n",
    "# split the fixations df based on block to get a list of indices when the block number changes\n",
    "grouped = fixations.groupby(fixations.WithinBlockCount)\n",
    "df_getindexes = grouped.get_group(0)\n",
    "index_start_list = df_getindexes.index.values.tolist()\n",
    "index_start_list.append(fixations.shape[0])\n",
    "if index_start_list[0] != 0:\n",
    "    index_start_list.insert(0, 0)\n",
    "# use list of indices to make a new column\n",
    "new_col = np.ones((fixations.shape[0])).astype(int)\n",
    "# subj 39, block 4 is empty\n",
    "if subj_id == 39:\n",
    "    for block_num in np.arange(3):\n",
    "        new_col[index_start_list[block_num]:index_start_list[block_num+1]] = new_col[index_start_list[block_num]:index_start_list[block_num+1]]*(block_num+1)\n",
    "    for block_num in np.arange(4,n_blocks):\n",
    "        new_col[index_start_list[block_num-1]:index_start_list[block_num]] = new_col[index_start_list[block_num-1]:index_start_list[block_num]]*(block_num+1)\n",
    "else: \n",
    "    for block_num in np.arange(n_blocks):\n",
    "        new_col[index_start_list[block_num]:index_start_list[block_num+1]] = new_col[index_start_list[block_num]:index_start_list[block_num+1]]*(block_num+1)\n",
    "fixations['BlockNumber'] = new_col"
   ]
  },
  {
   "cell_type": "code",
   "execution_count": 8,
   "metadata": {},
   "outputs": [],
   "source": [
    "fixations_block = fixations[fixations.BlockNumber == block]\n",
    "fixations_block_trial = fixations_block[fixations_block.Trial == (block-1)*n_trials_block + trial]"
   ]
  },
  {
   "cell_type": "code",
   "execution_count": 9,
   "metadata": {},
   "outputs": [],
   "source": [
    "a = 1"
   ]
  },
  {
   "cell_type": "code",
   "execution_count": 10,
   "metadata": {},
   "outputs": [
    {
     "data": {
      "text/html": [
       "<div>\n",
       "<style scoped>\n",
       "    .dataframe tbody tr th:only-of-type {\n",
       "        vertical-align: middle;\n",
       "    }\n",
       "\n",
       "    .dataframe tbody tr th {\n",
       "        vertical-align: top;\n",
       "    }\n",
       "\n",
       "    .dataframe thead th {\n",
       "        text-align: right;\n",
       "    }\n",
       "</style>\n",
       "<table border=\"1\" class=\"dataframe\">\n",
       "  <thead>\n",
       "    <tr style=\"text-align: right;\">\n",
       "      <th></th>\n",
       "      <th>WithinBlockCount</th>\n",
       "      <th>Trial</th>\n",
       "      <th>AoI</th>\n",
       "      <th>Onset</th>\n",
       "      <th>Offset</th>\n",
       "      <th>Duration</th>\n",
       "      <th>Feature</th>\n",
       "      <th>BlockNumber</th>\n",
       "    </tr>\n",
       "  </thead>\n",
       "  <tbody>\n",
       "    <tr>\n",
       "      <th>7906</th>\n",
       "      <td>3</td>\n",
       "      <td>361.0</td>\n",
       "      <td>1.0</td>\n",
       "      <td>0.424</td>\n",
       "      <td>0.808</td>\n",
       "      <td>0.384</td>\n",
       "      <td>1.0</td>\n",
       "      <td>10</td>\n",
       "    </tr>\n",
       "    <tr>\n",
       "      <th>7918</th>\n",
       "      <td>17</td>\n",
       "      <td>361.0</td>\n",
       "      <td>1.0</td>\n",
       "      <td>3.088</td>\n",
       "      <td>3.208</td>\n",
       "      <td>0.120</td>\n",
       "      <td>1.0</td>\n",
       "      <td>10</td>\n",
       "    </tr>\n",
       "  </tbody>\n",
       "</table>\n",
       "</div>"
      ],
      "text/plain": [
       "      WithinBlockCount  Trial  AoI  Onset  Offset  Duration  Feature  \\\n",
       "7906                 3  361.0  1.0  0.424   0.808     0.384      1.0   \n",
       "7918                17  361.0  1.0  3.088   3.208     0.120      1.0   \n",
       "\n",
       "      BlockNumber  \n",
       "7906           10  \n",
       "7918           10  "
      ]
     },
     "execution_count": 10,
     "metadata": {},
     "output_type": "execute_result"
    }
   ],
   "source": [
    "fixations_block_trial[fixations_block_trial.AoI.astype(int) == a]"
   ]
  },
  {
   "cell_type": "code",
   "execution_count": 15,
   "metadata": {},
   "outputs": [
    {
     "name": "stdout",
     "output_type": "stream",
     "text": [
      "0 \n",
      " index  7904 \n",
      " row  WithinBlockCount      0.000\n",
      "Trial               361.000\n",
      "AoI                   5.000\n",
      "Onset                 0.000\n",
      "Offset                0.232\n",
      "Duration              0.232\n",
      "Feature               9.000\n",
      "BlockNumber          10.000\n",
      "Name: 7904, dtype: float64\n",
      "1 \n",
      " index  7905 \n",
      " row  WithinBlockCount      2.00\n",
      "Trial               361.00\n",
      "AoI                   2.00\n",
      "Onset                 0.24\n",
      "Offset                0.42\n",
      "Duration              0.18\n",
      "Feature               8.00\n",
      "BlockNumber          10.00\n",
      "Name: 7905, dtype: float64\n",
      "2 \n",
      " index  7906 \n",
      " row  WithinBlockCount      3.000\n",
      "Trial               361.000\n",
      "AoI                   1.000\n",
      "Onset                 0.424\n",
      "Offset                0.808\n",
      "Duration              0.384\n",
      "Feature               1.000\n",
      "BlockNumber          10.000\n",
      "Name: 7906, dtype: float64\n",
      "3 \n",
      " index  7907 \n",
      " row  WithinBlockCount      5.000\n",
      "Trial               361.000\n",
      "AoI                  10.000\n",
      "Onset                 0.816\n",
      "Offset                0.824\n",
      "Duration              0.008\n",
      "Feature              10.000\n",
      "BlockNumber          10.000\n",
      "Name: 7907, dtype: float64\n",
      "4 \n",
      " index  7908 \n",
      " row  WithinBlockCount      6.000\n",
      "Trial               361.000\n",
      "AoI                  10.000\n",
      "Onset                 0.892\n",
      "Offset                0.912\n",
      "Duration              0.020\n",
      "Feature              10.000\n",
      "BlockNumber          10.000\n",
      "Name: 7908, dtype: float64\n",
      "5 \n",
      " index  7909 \n",
      " row  WithinBlockCount      7.000\n",
      "Trial               361.000\n",
      "AoI                   3.000\n",
      "Onset                 0.916\n",
      "Offset                0.932\n",
      "Duration              0.016\n",
      "Feature               5.000\n",
      "BlockNumber          10.000\n",
      "Name: 7909, dtype: float64\n",
      "6 \n",
      " index  7910 \n",
      " row  WithinBlockCount      8.000\n",
      "Trial               361.000\n",
      "AoI                   2.000\n",
      "Onset                 0.936\n",
      "Offset                1.212\n",
      "Duration              0.276\n",
      "Feature               8.000\n",
      "BlockNumber          10.000\n",
      "Name: 7910, dtype: float64\n",
      "7 \n",
      " index  7911 \n",
      " row  WithinBlockCount      9.000\n",
      "Trial               361.000\n",
      "AoI                   3.000\n",
      "Onset                 1.216\n",
      "Offset                1.504\n",
      "Duration              0.288\n",
      "Feature               5.000\n",
      "BlockNumber          10.000\n",
      "Name: 7911, dtype: float64\n",
      "8 \n",
      " index  7912 \n",
      " row  WithinBlockCount     11.000\n",
      "Trial               361.000\n",
      "AoI                   2.000\n",
      "Onset                 1.512\n",
      "Offset                1.704\n",
      "Duration              0.192\n",
      "Feature               8.000\n",
      "BlockNumber          10.000\n",
      "Name: 7912, dtype: float64\n",
      "9 \n",
      " index  7913 \n",
      " row  WithinBlockCount     12.000\n",
      "Trial               361.000\n",
      "AoI                   3.000\n",
      "Onset                 1.708\n",
      "Offset                2.220\n",
      "Duration              0.512\n",
      "Feature               5.000\n",
      "BlockNumber          10.000\n",
      "Name: 7913, dtype: float64\n",
      "10 \n",
      " index  7914 \n",
      " row  WithinBlockCount     13.000\n",
      "Trial               361.000\n",
      "AoI                  10.000\n",
      "Onset                 2.224\n",
      "Offset                2.228\n",
      "Duration              0.004\n",
      "Feature              10.000\n",
      "BlockNumber          10.000\n",
      "Name: 7914, dtype: float64\n",
      "11 \n",
      " index  7915 \n",
      " row  WithinBlockCount     14.000\n",
      "Trial               361.000\n",
      "AoI                  10.000\n",
      "Onset                 2.344\n",
      "Offset                2.396\n",
      "Duration              0.052\n",
      "Feature              10.000\n",
      "BlockNumber          10.000\n",
      "Name: 7915, dtype: float64\n",
      "12 \n",
      " index  7916 \n",
      " row  WithinBlockCount     15.000\n",
      "Trial               361.000\n",
      "AoI                   3.000\n",
      "Onset                 2.400\n",
      "Offset                2.864\n",
      "Duration              0.464\n",
      "Feature               5.000\n",
      "BlockNumber          10.000\n",
      "Name: 7916, dtype: float64\n",
      "13 \n",
      " index  7917 \n",
      " row  WithinBlockCount     16.000\n",
      "Trial               361.000\n",
      "AoI                   2.000\n",
      "Onset                 2.868\n",
      "Offset                3.084\n",
      "Duration              0.216\n",
      "Feature               8.000\n",
      "BlockNumber          10.000\n",
      "Name: 7917, dtype: float64\n",
      "14 \n",
      " index  7918 \n",
      " row  WithinBlockCount     17.000\n",
      "Trial               361.000\n",
      "AoI                   1.000\n",
      "Onset                 3.088\n",
      "Offset                3.208\n",
      "Duration              0.120\n",
      "Feature               1.000\n",
      "BlockNumber          10.000\n",
      "Name: 7918, dtype: float64\n",
      "15 \n",
      " index  7919 \n",
      " row  WithinBlockCount     20.000\n",
      "Trial               361.000\n",
      "AoI                  10.000\n",
      "Onset                 3.220\n",
      "Offset                3.228\n",
      "Duration              0.008\n",
      "Feature              10.000\n",
      "BlockNumber          10.000\n",
      "Name: 7919, dtype: float64\n",
      "16 \n",
      " index  7920 \n",
      " row  WithinBlockCount     21.000\n",
      "Trial               361.000\n",
      "AoI                  10.000\n",
      "Onset                 3.368\n",
      "Offset                3.396\n",
      "Duration              0.028\n",
      "Feature              10.000\n",
      "BlockNumber          10.000\n",
      "Name: 7920, dtype: float64\n",
      "17 \n",
      " index  7921 \n",
      " row  WithinBlockCount     22.000\n",
      "Trial               361.000\n",
      "AoI                   6.000\n",
      "Onset                 3.400\n",
      "Offset                3.428\n",
      "Duration              0.028\n",
      "Feature               6.000\n",
      "BlockNumber          10.000\n",
      "Name: 7921, dtype: float64\n",
      "18 \n",
      " index  7922 \n",
      " row  WithinBlockCount     23.000\n",
      "Trial               361.000\n",
      "AoI                   5.000\n",
      "Onset                 3.432\n",
      "Offset                3.740\n",
      "Duration              0.308\n",
      "Feature               9.000\n",
      "BlockNumber          10.000\n",
      "Name: 7922, dtype: float64\n",
      "19 \n",
      " index  7923 \n",
      " row  WithinBlockCount     24.000\n",
      "Trial               361.000\n",
      "AoI                  10.000\n",
      "Onset                 3.744\n",
      "Offset                4.012\n",
      "Duration              0.268\n",
      "Feature              10.000\n",
      "BlockNumber          10.000\n",
      "Name: 7923, dtype: float64\n"
     ]
    }
   ],
   "source": [
    "count = 0\n",
    "for index, row in fixations_block_trial.iterrows():\n",
    "    print(count, '\\n index ', index, \"\\n row \", row)\n",
    "    count += 1"
   ]
  },
  {
   "cell_type": "code",
   "execution_count": 6,
   "metadata": {},
   "outputs": [
    {
     "name": "stderr",
     "output_type": "stream",
     "text": [
      "/Users/Naiti/Documents/Documents_NBMacBookPro/NYU/EyetrackingProject/ldm-analysis/plotAOIFeatures.py:186: SettingWithCopyWarning:\n",
      "\n",
      "\n",
      "A value is trying to be set on a copy of a slice from a DataFrame.\n",
      "Try using .loc[row_indexer,col_indexer] = value instead\n",
      "\n",
      "See the caveats in the documentation: https://pandas.pydata.org/pandas-docs/stable/user_guide/indexing.html#returning-a-view-versus-a-copy\n",
      "\n"
     ]
    },
    {
     "data": {
      "text/plain": [
       "(<Figure size 270x216 with 2 Axes>, <AxesSubplot:>)"
      ]
     },
     "execution_count": 6,
     "metadata": {},
     "output_type": "execute_result"
    },
    {
     "data": {
      "image/png": "[encoded data removed]",
      "text/plain": [
       "<Figure size 270x216 with 2 Axes>"
      ]
     },
     "metadata": {
      "needs_background": "light"
     },
     "output_type": "display_data"
    }
   ],
   "source": [
    "paf.plotAOIFeatures(39, 1, 3)"
   ]
  }
 ],
 "metadata": {
  "interpreter": {
   "hash": "40d3a090f54c6569ab1632332b64b2c03c39dcf918b08424e98f38b5ae0af88f"
  },
  "kernelspec": {
   "display_name": "Python 3 (ipykernel)",
   "language": "python",
   "name": "python3"
  },
  "language_info": {
   "codemirror_mode": {
    "name": "ipython",
    "version": 3
   },
   "file_extension": ".py",
   "mimetype": "text/x-python",
   "name": "python",
   "nbconvert_exporter": "python",
   "pygments_lexer": "ipython3",
   "version": "3.9.7"
  },
  "orig_nbformat": 4
 },
 "nbformat": 4,
 "nbformat_minor": 2
}
