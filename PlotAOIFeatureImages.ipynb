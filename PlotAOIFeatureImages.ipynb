{
 "cells": [
  {
   "cell_type": "markdown",
   "metadata": {},
   "source": [
    "# Overview of this Notebook"
   ]
  },
  {
   "cell_type": "markdown",
   "metadata": {},
   "source": [
    "This notebook plots the feature images associated with a given subject, block, and trial on respective AOIs."
   ]
  },
  {
   "cell_type": "code",
   "execution_count": 3,
   "metadata": {},
   "outputs": [],
   "source": [
    "%load_ext autoreload\n",
    "%autoreload"
   ]
  },
  {
   "cell_type": "code",
   "execution_count": 4,
   "metadata": {},
   "outputs": [
    {
     "name": "stdout",
     "output_type": "stream",
     "text": [
      "Powered by NivLink0.2.5\n",
      "Powered by NivLink0.2.5\n"
     ]
    }
   ],
   "source": [
    "import sys\n",
    "import os\n",
    "\n",
    "import numpy as np\n",
    "import matplotlib.pyplot as plt\n",
    "import matplotlib.cm as cm\n",
    "import matplotlib as matplotlib\n",
    "from matplotlib.colors import ListedColormap\n",
    "import seaborn as sns\n",
    "import scipy.io as io\n",
    "import pandas as pd\n",
    "from pandas import DataFrame, read_csv\n",
    "from nivlink import Screen, Raw, Epochs, align_to_aoi, compute_fixations, plot_heatmaps\n",
    "import cv2\n",
    "import readline\n",
    "from math import dist\n",
    "from scipy.spatial.distance import squareform, pdist\n",
    "\n",
    "import warnings\n",
    "from scipy.stats import kde\n",
    "import nivlink\n",
    "import ipywidgets as wdg\n",
    "from scipy.stats import iqr\n",
    "print('Powered by NivLink' + str(nivlink.__version__))\n",
    "\n",
    "import plotAOIFeatures as paf"
   ]
  },
  {
   "cell_type": "code",
   "execution_count": 8,
   "metadata": {},
   "outputs": [],
   "source": [
    "## Define global variables ##\n",
    "et_data_dir = os.getcwd().strip('ldm-analysis') + 'ProcessedData/'# this expects ProcessedData to be one directory up from the analysis repo\n",
    "image_dir = os.getcwd().strip('ldm-analysis') + 'FinalStimuli/ByNumber/'\n",
    "\n",
    "## Define screen metadata.\n",
    "xdim, ydim, n_screens = 1280, 1024, 1 \n",
    "aoisidelength = 162\n",
    "n_aois = 9"
   ]
  },
  {
   "cell_type": "code",
   "execution_count": 128,
   "metadata": {},
   "outputs": [
    {
     "name": "stdout",
     "output_type": "stream",
     "text": [
      "10\n",
      "[0, 629, 1462, 2254, 2794, 3488, 4212, 5013, 5660, 5930]\n"
     ]
    },
    {
     "name": "stderr",
     "output_type": "stream",
     "text": [
      "/var/folders/wg/m30l6kjs09l1pxs4fshqx1xxjyhc2c/T/ipykernel_7563/707487155.py:14: SettingWithCopyWarning: \n",
      "A value is trying to be set on a copy of a slice from a DataFrame.\n",
      "Try using .loc[row_indexer,col_indexer] = value instead\n",
      "\n",
      "See the caveats in the documentation: https://pandas.pydata.org/pandas-docs/stable/user_guide/indexing.html#returning-a-view-versus-a-copy\n",
      "  centers['Block'] = [int(s.replace(sub + 'block' + '_', \"\")) for s in list(centers['Unnamed: 0'].values)]\n"
     ]
    }
   ],
   "source": [
    "subj_id = 39\n",
    "block = 10\n",
    "trial = 1\n",
    "n_trials_block = 40\n",
    "## Load data.\n",
    "data, raw_pos_data, messages, sfreq = paf.load_subj_data(subj_id)\n",
    "\n",
    "## Load all centers.\n",
    "all_centers = pd.read_csv(os.getcwd() + '/allCenters.csv')\n",
    "\n",
    "## Subset this participant's centers. \n",
    "sub = 'Sub' + str(subj_id) + '_'\n",
    "centers = all_centers[all_centers['Unnamed: 0'].str.contains(sub)]\n",
    "centers['Block'] = [int(s.replace(sub + 'block' + '_', \"\")) for s in list(centers['Unnamed: 0'].values)]\n",
    "\n",
    "## Mark run onsets. \n",
    "run_onsets = paf.get_run_onsets(messages)\n",
    "n_blocks, d = run_onsets.shape\n",
    "print(n_blocks)\n",
    "\n",
    "# Load feature map\n",
    "featmap_file_path = et_data_dir + str(subj_id) + 'featmap.mat'\n",
    "featmap_mat = io.loadmat(featmap_file_path, struct_as_record=False, squeeze_me=True)\n",
    "featmap = np.array(featmap_mat[\"features_aoi_map\"])\n",
    "\n",
    "# Re-format events dataframe. \n",
    "events_df = paf.rereference_events(subj_id, n_blocks, run_onsets, sfreq)\n",
    "\n",
    "# Load fixations for sub\n",
    "fixations = pd.read_csv(et_data_dir + str(subj_id) + 'fixations.csv')\n",
    "fixations = fixations.rename(columns={'Unnamed: 0': 'WithinBlockCount'})\n",
    "# split the fixations df based on block to get a list of indices when the block number changes\n",
    "grouped = fixations.groupby(fixations.WithinBlockCount)\n",
    "df_getindexes = grouped.get_group(0)\n",
    "index_start_list = df_getindexes.index.values.tolist()\n",
    "index_start_list.append(fixations.shape[0])\n",
    "if index_start_list[0] != 0:\n",
    "    index_start_list.insert(0, 0)\n",
    "print(index_start_list)\n",
    "# use list of indices to make a new column\n",
    "new_col = np.ones((fixations.shape[0])).astype(int)\n",
    "# subj 39, block 4 is empty\n",
    "if subj_id == 39:\n",
    "    for block_num in np.arange(3):\n",
    "        new_col[index_start_list[block_num]:index_start_list[block_num+1]] = new_col[index_start_list[block_num]:index_start_list[block_num+1]]*(block_num+1)\n",
    "    for block_num in np.arange(4,n_blocks):\n",
    "        new_col[index_start_list[block_num-1]:index_start_list[block_num]] = new_col[index_start_list[block_num-1]:index_start_list[block_num]]*(block_num+1)\n",
    "else: \n",
    "    for block_num in np.arange(n_blocks):\n",
    "        new_col[index_start_list[block_num]:index_start_list[block_num+1]] = new_col[index_start_list[block_num]:index_start_list[block_num+1]]*(block_num+1)\n",
    "fixations['BlockNumber'] = new_col"
   ]
  },
  {
   "cell_type": "code",
   "execution_count": 129,
   "metadata": {},
   "outputs": [],
   "source": [
    "fixations_block = fixations[fixations.BlockNumber == block]\n",
    "fixations_block_trial = fixations_block[fixations_block.Trial == (block-1)*n_trials_block + trial]"
   ]
  },
  {
   "cell_type": "code",
   "execution_count": 130,
   "metadata": {},
   "outputs": [
    {
     "data": {
      "text/html": [
       "<div>\n",
       "<style scoped>\n",
       "    .dataframe tbody tr th:only-of-type {\n",
       "        vertical-align: middle;\n",
       "    }\n",
       "\n",
       "    .dataframe tbody tr th {\n",
       "        vertical-align: top;\n",
       "    }\n",
       "\n",
       "    .dataframe thead th {\n",
       "        text-align: right;\n",
       "    }\n",
       "</style>\n",
       "<table border=\"1\" class=\"dataframe\">\n",
       "  <thead>\n",
       "    <tr style=\"text-align: right;\">\n",
       "      <th></th>\n",
       "      <th>WithinBlockCount</th>\n",
       "      <th>Trial</th>\n",
       "      <th>AoI</th>\n",
       "      <th>Onset</th>\n",
       "      <th>Offset</th>\n",
       "      <th>Duration</th>\n",
       "      <th>Feature</th>\n",
       "      <th>BlockNumber</th>\n",
       "    </tr>\n",
       "  </thead>\n",
       "  <tbody>\n",
       "    <tr>\n",
       "      <th>5660</th>\n",
       "      <td>0</td>\n",
       "      <td>361.0</td>\n",
       "      <td>5.0</td>\n",
       "      <td>0.040</td>\n",
       "      <td>0.068</td>\n",
       "      <td>0.028</td>\n",
       "      <td>8.0</td>\n",
       "      <td>10</td>\n",
       "    </tr>\n",
       "    <tr>\n",
       "      <th>5661</th>\n",
       "      <td>2</td>\n",
       "      <td>361.0</td>\n",
       "      <td>4.0</td>\n",
       "      <td>0.076</td>\n",
       "      <td>0.232</td>\n",
       "      <td>0.156</td>\n",
       "      <td>3.0</td>\n",
       "      <td>10</td>\n",
       "    </tr>\n",
       "    <tr>\n",
       "      <th>5662</th>\n",
       "      <td>4</td>\n",
       "      <td>361.0</td>\n",
       "      <td>1.0</td>\n",
       "      <td>0.240</td>\n",
       "      <td>0.244</td>\n",
       "      <td>0.004</td>\n",
       "      <td>2.0</td>\n",
       "      <td>10</td>\n",
       "    </tr>\n",
       "    <tr>\n",
       "      <th>5663</th>\n",
       "      <td>5</td>\n",
       "      <td>361.0</td>\n",
       "      <td>10.0</td>\n",
       "      <td>0.248</td>\n",
       "      <td>0.252</td>\n",
       "      <td>0.004</td>\n",
       "      <td>10.0</td>\n",
       "      <td>10</td>\n",
       "    </tr>\n",
       "    <tr>\n",
       "      <th>5664</th>\n",
       "      <td>6</td>\n",
       "      <td>361.0</td>\n",
       "      <td>2.0</td>\n",
       "      <td>0.256</td>\n",
       "      <td>1.032</td>\n",
       "      <td>0.776</td>\n",
       "      <td>9.0</td>\n",
       "      <td>10</td>\n",
       "    </tr>\n",
       "    <tr>\n",
       "      <th>5665</th>\n",
       "      <td>7</td>\n",
       "      <td>361.0</td>\n",
       "      <td>1.0</td>\n",
       "      <td>1.304</td>\n",
       "      <td>2.348</td>\n",
       "      <td>1.044</td>\n",
       "      <td>2.0</td>\n",
       "      <td>10</td>\n",
       "    </tr>\n",
       "    <tr>\n",
       "      <th>5666</th>\n",
       "      <td>9</td>\n",
       "      <td>361.0</td>\n",
       "      <td>2.0</td>\n",
       "      <td>2.356</td>\n",
       "      <td>2.384</td>\n",
       "      <td>0.028</td>\n",
       "      <td>9.0</td>\n",
       "      <td>10</td>\n",
       "    </tr>\n",
       "    <tr>\n",
       "      <th>5667</th>\n",
       "      <td>10</td>\n",
       "      <td>361.0</td>\n",
       "      <td>10.0</td>\n",
       "      <td>2.388</td>\n",
       "      <td>2.512</td>\n",
       "      <td>0.124</td>\n",
       "      <td>10.0</td>\n",
       "      <td>10</td>\n",
       "    </tr>\n",
       "    <tr>\n",
       "      <th>5668</th>\n",
       "      <td>11</td>\n",
       "      <td>361.0</td>\n",
       "      <td>2.0</td>\n",
       "      <td>2.516</td>\n",
       "      <td>3.124</td>\n",
       "      <td>0.608</td>\n",
       "      <td>9.0</td>\n",
       "      <td>10</td>\n",
       "    </tr>\n",
       "    <tr>\n",
       "      <th>5669</th>\n",
       "      <td>12</td>\n",
       "      <td>361.0</td>\n",
       "      <td>10.0</td>\n",
       "      <td>3.128</td>\n",
       "      <td>3.140</td>\n",
       "      <td>0.012</td>\n",
       "      <td>10.0</td>\n",
       "      <td>10</td>\n",
       "    </tr>\n",
       "    <tr>\n",
       "      <th>5670</th>\n",
       "      <td>13</td>\n",
       "      <td>361.0</td>\n",
       "      <td>2.0</td>\n",
       "      <td>3.144</td>\n",
       "      <td>3.296</td>\n",
       "      <td>0.152</td>\n",
       "      <td>9.0</td>\n",
       "      <td>10</td>\n",
       "    </tr>\n",
       "    <tr>\n",
       "      <th>5671</th>\n",
       "      <td>14</td>\n",
       "      <td>361.0</td>\n",
       "      <td>3.0</td>\n",
       "      <td>3.300</td>\n",
       "      <td>3.308</td>\n",
       "      <td>0.008</td>\n",
       "      <td>5.0</td>\n",
       "      <td>10</td>\n",
       "    </tr>\n",
       "    <tr>\n",
       "      <th>5672</th>\n",
       "      <td>16</td>\n",
       "      <td>361.0</td>\n",
       "      <td>4.0</td>\n",
       "      <td>3.520</td>\n",
       "      <td>3.588</td>\n",
       "      <td>0.068</td>\n",
       "      <td>3.0</td>\n",
       "      <td>10</td>\n",
       "    </tr>\n",
       "    <tr>\n",
       "      <th>5673</th>\n",
       "      <td>17</td>\n",
       "      <td>361.0</td>\n",
       "      <td>10.0</td>\n",
       "      <td>3.592</td>\n",
       "      <td>4.012</td>\n",
       "      <td>0.420</td>\n",
       "      <td>10.0</td>\n",
       "      <td>10</td>\n",
       "    </tr>\n",
       "  </tbody>\n",
       "</table>\n",
       "</div>"
      ],
      "text/plain": [
       "      WithinBlockCount  Trial   AoI  Onset  Offset  Duration  Feature  \\\n",
       "5660                 0  361.0   5.0  0.040   0.068     0.028      8.0   \n",
       "5661                 2  361.0   4.0  0.076   0.232     0.156      3.0   \n",
       "5662                 4  361.0   1.0  0.240   0.244     0.004      2.0   \n",
       "5663                 5  361.0  10.0  0.248   0.252     0.004     10.0   \n",
       "5664                 6  361.0   2.0  0.256   1.032     0.776      9.0   \n",
       "5665                 7  361.0   1.0  1.304   2.348     1.044      2.0   \n",
       "5666                 9  361.0   2.0  2.356   2.384     0.028      9.0   \n",
       "5667                10  361.0  10.0  2.388   2.512     0.124     10.0   \n",
       "5668                11  361.0   2.0  2.516   3.124     0.608      9.0   \n",
       "5669                12  361.0  10.0  3.128   3.140     0.012     10.0   \n",
       "5670                13  361.0   2.0  3.144   3.296     0.152      9.0   \n",
       "5671                14  361.0   3.0  3.300   3.308     0.008      5.0   \n",
       "5672                16  361.0   4.0  3.520   3.588     0.068      3.0   \n",
       "5673                17  361.0  10.0  3.592   4.012     0.420     10.0   \n",
       "\n",
       "      BlockNumber  \n",
       "5660           10  \n",
       "5661           10  \n",
       "5662           10  \n",
       "5663           10  \n",
       "5664           10  \n",
       "5665           10  \n",
       "5666           10  \n",
       "5667           10  \n",
       "5668           10  \n",
       "5669           10  \n",
       "5670           10  \n",
       "5671           10  \n",
       "5672           10  \n",
       "5673           10  "
      ]
     },
     "execution_count": 130,
     "metadata": {},
     "output_type": "execute_result"
    }
   ],
   "source": [
    "fixations_block_trial"
   ]
  },
  {
   "cell_type": "code",
   "execution_count": 5,
   "metadata": {},
   "outputs": [
    {
     "name": "stdout",
     "output_type": "stream",
     "text": [
      "      Unnamed: 0  Trial   AoI  Onset  Offset  Duration  Feature\n",
      "0              0    1.0  10.0  0.000   0.008     0.008     10.0\n",
      "1              1    1.0   4.0  0.012   0.044     0.032      2.0\n",
      "2              3    1.0   5.0  0.052   0.120     0.068      9.0\n",
      "3              4    1.0   4.0  0.124   0.152     0.028      2.0\n",
      "4              5    1.0  10.0  0.156   0.160     0.004     10.0\n",
      "...          ...    ...   ...    ...     ...       ...      ...\n",
      "5925         342  396.0   6.0  2.172   2.180     0.008      5.0\n",
      "5926         343  396.0  10.0  2.184   2.232     0.048     10.0\n",
      "5927         344  400.0   8.0  3.708   3.848     0.140      7.0\n",
      "5928         345  400.0  10.0  3.852   3.856     0.004     10.0\n",
      "5929         346  400.0   5.0  3.860   4.012     0.152      8.0\n",
      "\n",
      "[5930 rows x 7 columns]\n",
      "40\n"
     ]
    },
    {
     "name": "stderr",
     "output_type": "stream",
     "text": [
      "/Users/nsb373/Documents/EyetrackingProject/ldm-analysis/plotAOIFeatures.py:189: SettingWithCopyWarning: \n",
      "A value is trying to be set on a copy of a slice from a DataFrame.\n",
      "Try using .loc[row_indexer,col_indexer] = value instead\n",
      "\n",
      "See the caveats in the documentation: https://pandas.pydata.org/pandas-docs/stable/user_guide/indexing.html#returning-a-view-versus-a-copy\n",
      "  centers['Block'] = [int(s.replace(sub + 'block' + '_', \"\")) for s in list(centers['Unnamed: 0'].values)]\n"
     ]
    },
    {
     "data": {
      "text/plain": [
       "(<Figure size 270x216 with 2 Axes>, <AxesSubplot:>)"
      ]
     },
     "execution_count": 5,
     "metadata": {},
     "output_type": "execute_result"
    },
    {
     "data": {
      "image/png": "[encoded data removed]",
      "text/plain": [
       "<Figure size 270x216 with 2 Axes>"
      ]
     },
     "metadata": {
      "needs_background": "light"
     },
     "output_type": "display_data"
    }
   ],
   "source": [
    "paf.plotAOIFeatures(39, 1, 3)"
   ]
  }
 ],
 "metadata": {
  "interpreter": {
   "hash": "40d3a090f54c6569ab1632332b64b2c03c39dcf918b08424e98f38b5ae0af88f"
  },
  "kernelspec": {
   "display_name": "Python 3.8.12 64-bit ('base': conda)",
   "language": "python",
   "name": "python3"
  },
  "language_info": {
   "codemirror_mode": {
    "name": "ipython",
    "version": 3
   },
   "file_extension": ".py",
   "mimetype": "text/x-python",
   "name": "python",
   "nbconvert_exporter": "python",
   "pygments_lexer": "ipython3",
   "version": "3.8.12"
  },
  "orig_nbformat": 4
 },
 "nbformat": 4,
 "nbformat_minor": 2
}
