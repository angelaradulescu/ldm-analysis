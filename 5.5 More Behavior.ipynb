{
 "cells": [
  {
   "cell_type": "markdown",
   "metadata": {},
   "source": [
    "Basic analyses of behavior in the FHT task. "
   ]
  },
  {
   "cell_type": "code",
   "execution_count": 158,
   "metadata": {},
   "outputs": [],
   "source": [
    "import sys\n",
    "import os\n",
    "import numpy as np\n",
    "import matplotlib.pyplot as plt\n",
    "import seaborn as sns\n",
    "import pandas as pd\n",
    "from scipy.stats import entropy\n",
    "import math"
   ]
  },
  {
   "cell_type": "markdown",
   "metadata": {},
   "source": [
    "# 1. Load and prep behavioral data"
   ]
  },
  {
   "cell_type": "code",
   "execution_count": 229,
   "metadata": {},
   "outputs": [],
   "source": [
    "behav_path = os.getcwd() + '/ProcessedData/AllData.csv' # this expects ProcessedData to be in the analysis repo\n",
    "behav_data = pd.read_csv(behav_path)\n",
    "subjects = behav_data['Subj'].unique()\n",
    "\n",
    "## Get metadata.\n",
    "n_trials = max(behav_data['Trial'])\n",
    "n_games = max(behav_data['Game'])\n",
    "game_length = len(behav_data.loc[(behav_data['Subj'] == 23) & (behav_data['Game'] == 1)])\n",
    "\n",
    "# change subj to int\n",
    "behav_data['Subj'] = behav_data['Subj'].astype(int)\n",
    "\n",
    "## Add trial-within-game variable.\n",
    "behav_data['WithinGameTrial'] = behav_data['Trial'] - (behav_data['Game']-1)*game_length\n",
    "behav_data = behav_data.fillna(0)"
   ]
  },
  {
   "cell_type": "markdown",
   "metadata": {},
   "source": [
    "# 2. Subset data to learning phase\n",
    "We'll calculate the point of learning for each game, which is the first correct choice in a streak of correct choices (80% correct selections on subsequent trials.)"
   ]
  },
  {
   "cell_type": "code",
   "execution_count": null,
   "metadata": {},
   "outputs": [],
   "source": []
  }
 ],
 "metadata": {
  "kernelspec": {
   "display_name": "Python 3",
   "language": "python",
   "name": "python3"
  },
  "language_info": {
   "codemirror_mode": {
    "name": "ipython",
    "version": 3
   },
   "file_extension": ".py",
   "mimetype": "text/x-python",
   "name": "python",
   "nbconvert_exporter": "python",
   "pygments_lexer": "ipython3",
   "version": "3.8.12"
  }
 },
 "nbformat": 4,
 "nbformat_minor": 2
}
