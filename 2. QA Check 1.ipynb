{
 "cells": [
  {
   "cell_type": "markdown",
   "metadata": {},
   "source": [
    "The purpose of this notebook is to compute the first of two quality assurance criteria for eye-tracking data in the LDM experiment.\n",
    "\n",
    "**Criterion  1**:  average agreement  between  the  position  of custom AoI centers marked by two independent raters.\n",
    "\n",
    "**Criterion  2**: percentage of samples that fall outside a valid AoI.\n",
    "\n",
    "Participants who fall more than 1.5×IQR above 3rd quartile in either criterion should be excluded from further analysis."
   ]
  },
  {
   "cell_type": "code",
   "execution_count": 6,
   "metadata": {},
   "outputs": [
    {
     "name": "stdout",
     "output_type": "stream",
     "text": [
      "Powered by NivLink0.2.5\n"
     ]
    }
   ],
   "source": [
    "import sys\n",
    "import os\n",
    "\n",
    "import numpy as np\n",
    "import matplotlib.pyplot as plt\n",
    "import matplotlib.cm as cm\n",
    "import matplotlib as matplotlib\n",
    "from matplotlib.colors import ListedColormap\n",
    "import seaborn as sns\n",
    "import scipy.io as io\n",
    "import pandas as pd\n",
    "from pandas import DataFrame, read_csv\n",
    "from nivlink import Screen, Raw, align_to_aoi, compute_fixations, plot_heatmaps\n",
    "\n",
    "import warnings\n",
    "from scipy.stats import kde\n",
    "import nivlink\n",
    "import ipywidgets as wdg\n",
    "from scipy.stats import iqr\n",
    "print('Powered by NivLink' + str(nivlink.__version__))"
   ]
  },
  {
   "cell_type": "code",
   "execution_count": 7,
   "metadata": {},
   "outputs": [],
   "source": [
    "all_subjects =  [23, 26, 27, 28, 29, 30, 31, 33, 34, 35, 36, 37, 38, 39, 40, 41, 42, 43, 44, 45, 46, 47, 49, 53, 54, \n",
    "                 55, 57, 58, 60, 61, 62, 63, 66, 67, 68, 69, 70, 71];"
   ]
  },
  {
   "cell_type": "markdown",
   "metadata": {},
   "source": [
    "## Compute rater distance."
   ]
  },
  {
   "cell_type": "code",
   "execution_count": 8,
   "metadata": {},
   "outputs": [],
   "source": [
    "def compute_distance(subj_id, block):\n",
    "\n",
    "    c1 = pd.read_csv(os.getcwd() + '/labelcenters/' + 'Sub' + str(subj_id) + '_block_' + str(block) + '_centers_AR.csv')\n",
    "    c2 = pd.read_csv(os.getcwd() + '/labelcenters/' + 'Sub' + str(subj_id) + '_block_' + str(block) + '_centers_NB.csv')\n",
    "    \n",
    "    # Compute distance for each x, y cooordinate. \n",
    "    rater_distance = abs((c1 - c2))\n",
    "    \n",
    "    # Average agreement (first over x, y directions, and then over AoIs).\n",
    "    rater_distance = np.mean(rater_distance.mean(axis=0).values)\n",
    "    \n",
    "    return rater_distance"
   ]
  },
  {
   "cell_type": "code",
   "execution_count": 9,
   "metadata": {},
   "outputs": [],
   "source": [
    "S = []\n",
    "B = []\n",
    "D = []\n",
    "\n",
    "# Loop through subjects.\n",
    "for subj_id in all_subjects:\n",
    "    \n",
    "    # Compute agreement for each block. \n",
    "    d = []\n",
    "    for b in np.arange(10):\n",
    "        \n",
    "            block = b + 1\n",
    "            d.append(compute_distance(subj_id, block))\n",
    "    \n",
    "    # Append. \n",
    "    S.append(subj_id)\n",
    "    D.append(np.mean(d))"
   ]
  },
  {
   "cell_type": "markdown",
   "metadata": {},
   "source": [
    "## Plot distribution."
   ]
  },
  {
   "cell_type": "code",
   "execution_count": 10,
   "metadata": {},
   "outputs": [
    {
     "data": {
      "image/png": "[encoded data removed]",
      "text/plain": [
       "<Figure size 288x576 with 1 Axes>"
      ]
     },
     "metadata": {
      "needs_background": "light"
     },
     "output_type": "display_data"
    }
   ],
   "source": [
    "fig, ax = plt.subplots(1, 1, figsize=(4, 8))\n",
    "ax = sns.boxplot(y=D, whis=1.5, color='olive')\n",
    "ax.tick_params(axis='x', labelsize=20)\n",
    "ax.tick_params(axis='y', labelsize=20)\n",
    "ax.set_ylabel('Distance (px)', fontsize=30);"
   ]
  },
  {
   "cell_type": "markdown",
   "metadata": {},
   "source": [
    "## Compute outliers."
   ]
  },
  {
   "cell_type": "code",
   "execution_count": 12,
   "metadata": {},
   "outputs": [
    {
     "name": "stdout",
     "output_type": "stream",
     "text": [
      "Subjects that failed QA check: \n",
      "[33, 66]\n"
     ]
    }
   ],
   "source": [
    "## Compute outliers (1.5 IQR above 3rd quartile). \n",
    "Q = [np.quantile(D, x) for x in [.25,.50,.75]]\n",
    "IQR = Q[2] - Q[0]\n",
    "\n",
    "failed_qa = [S[i] for i in np.where(D > (Q[2] + IQR*1.5))[0]]\n",
    "print('Subjects that failed QA check: ')\n",
    "print(failed_qa)"
   ]
  },
  {
   "cell_type": "code",
   "execution_count": null,
   "metadata": {},
   "outputs": [],
   "source": []
  }
 ],
 "metadata": {
  "kernelspec": {
   "display_name": "Python 3",
   "language": "python",
   "name": "python3"
  },
  "language_info": {
   "codemirror_mode": {
    "name": "ipython",
    "version": 3
   },
   "file_extension": ".py",
   "mimetype": "text/x-python",
   "name": "python",
   "nbconvert_exporter": "python",
   "pygments_lexer": "ipython3",
   "version": "3.8.5"
  }
 },
 "nbformat": 4,
 "nbformat_minor": 4
}
